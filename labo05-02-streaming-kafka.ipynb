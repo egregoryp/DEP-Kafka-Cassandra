{
 "cells": [
  {
   "cell_type": "code",
   "execution_count": null,
   "id": "a27df211",
   "metadata": {},
   "outputs": [],
   "source": [
    "from pyspark.context import SparkContext\n",
    "from pyspark.sql.session import SparkSession\n",
    "\n",
    "from pyspark.sql.functions import expr, col, from_json\n",
    "from pyspark.sql.types import StructType, StructField, StringType, LongType, DoubleType, IntegerType, ArrayType"
   ]
  },
  {
   "cell_type": "code",
   "execution_count": null,
   "id": "eb5bf03b",
   "metadata": {},
   "outputs": [],
   "source": [
    "#en sesion spark tenemos local o cluster\n",
    "\n",
    "spark = SparkSession\\\n",
    "        .builder \\\n",
    "        .appName(\"File Streaming Demo\") \\\n",
    "        .master(\"local[3]\") \\\n",
    "        .config(\"spark.streaming.stopGracefullyOnShutdown\", \"true\") \\\n",
    "        .getOrCreate()"
   ]
  },
  {
   "cell_type": "code",
   "execution_count": null,
   "id": "c923ee15",
   "metadata": {},
   "outputs": [],
   "source": [
    "schema = StructType([\n",
    "        StructField(\"InvoiceNumber\", StringType()),\n",
    "        StructField(\"CreatedTime\", LongType()),\n",
    "        StructField(\"StoreID\", StringType()),\n",
    "        StructField(\"PosID\", StringType()),\n",
    "        StructField(\"CashierID\", StringType()),\n",
    "        StructField(\"CustomerType\", StringType()),\n",
    "        StructField(\"CustomerCardNo\", StringType()),\n",
    "        StructField(\"TotalAmount\", DoubleType()),\n",
    "        StructField(\"NumberOfItems\", IntegerType()),\n",
    "        StructField(\"PaymentMethod\", StringType()),\n",
    "        StructField(\"CGST\", DoubleType()),\n",
    "        StructField(\"SGST\", DoubleType()),\n",
    "        StructField(\"CESS\", DoubleType()),\n",
    "        StructField(\"DeliveryType\", StringType()),\n",
    "        StructField(\"DeliveryAddress\", StructType([\n",
    "            StructField(\"AddressLine\", StringType()),\n",
    "            StructField(\"City\", StringType()),\n",
    "            StructField(\"State\", StringType()),\n",
    "            StructField(\"PinCode\", StringType()),\n",
    "            StructField(\"ContactNumber\", StringType())\n",
    "        ])),\n",
    "        StructField(\"InvoiceLineItems\", ArrayType(StructType([\n",
    "            StructField(\"ItemCode\", StringType()),\n",
    "            StructField(\"ItemDescription\", StringType()),\n",
    "            StructField(\"ItemPrice\", DoubleType()),\n",
    "            StructField(\"ItemQty\", IntegerType()),\n",
    "            StructField(\"TotalValue\", DoubleType())\n",
    "        ]))),\n",
    "    ])"
   ]
  },
  {
   "cell_type": "code",
   "execution_count": null,
   "id": "2ce38a0b",
   "metadata": {},
   "outputs": [],
   "source": [
    "kafka_df = spark.readStream \\\n",
    "        .format(\"kafka\") \\\n",
    "        .option(\"kafka.bootstrap.servers\", \"localhost:9092\") \\\n",
    "        .option(\"subscribe\", \"invoices\") \\\n",
    "        .option(\"startingOffsets\", \"earliest\") \\\n",
    "        .load()"
   ]
  },
  {
   "cell_type": "code",
   "execution_count": null,
   "id": "bb5e2ad2",
   "metadata": {},
   "outputs": [],
   "source": [
    "kafka_df.printSchema()"
   ]
  },
  {
   "cell_type": "code",
   "execution_count": null,
   "id": "dd7abe27",
   "metadata": {},
   "outputs": [],
   "source": [
    "value_df = kafka_df.select(from_json(col(\"value\").cast(\"string\"), schema).alias(\"value\"))"
   ]
  },
  {
   "cell_type": "code",
   "execution_count": null,
   "id": "8ad8bc69",
   "metadata": {},
   "outputs": [],
   "source": [
    "value_df.printSchema()"
   ]
  },
  {
   "cell_type": "code",
   "execution_count": null,
   "id": "e37c4d2f",
   "metadata": {},
   "outputs": [],
   "source": [
    "explode_df = value_df.selectExpr(\"value.InvoiceNumber\", \"value.CreatedTime\", \"value.StoreID\",\n",
    "                                     \"value.PosID\", \"value.CustomerType\", \"value.PaymentMethod\", \"value.DeliveryType\",\n",
    "                                     \"value.DeliveryAddress.City\",\n",
    "                                     \"value.DeliveryAddress.State\", \"value.DeliveryAddress.PinCode\",\n",
    "                                     \"explode(value.InvoiceLineItems) as LineItem\")\n",
    "\n",
    "flattened_df = explode_df \\\n",
    "        .withColumn(\"ItemCode\", expr(\"LineItem.ItemCode\")) \\\n",
    "        .withColumn(\"ItemDescription\", expr(\"LineItem.ItemDescription\")) \\\n",
    "        .withColumn(\"ItemPrice\", expr(\"LineItem.ItemPrice\")) \\\n",
    "        .withColumn(\"ItemQty\", expr(\"LineItem.ItemQty\")) \\\n",
    "        .withColumn(\"TotalValue\", expr(\"LineItem.TotalValue\")) \\\n",
    "        .drop(\"LineItem\")"
   ]
  },
  {
   "cell_type": "code",
   "execution_count": null,
   "id": "294f0ff7",
   "metadata": {},
   "outputs": [],
   "source": [
    "import time\n",
    "\n",
    "invoice_writer_query = flattened_df.writeStream \\\n",
    "        .format(\"json\") \\\n",
    "        .queryName(\"Flattened Invoice Writer\") \\\n",
    "        .outputMode(\"append\") \\\n",
    "        .option(\"path\", \"./data/streaming/output-kafka\") \\\n",
    "        .option(\"checkpointLocation\", \"./checkpoints/checkpoint-stream-kafka\") \\\n",
    "        .trigger(processingTime=\"1 minute\") \\\n",
    "        .start()\n",
    "invoice_writer_query.awaitTermination()"
   ]
  },
  {
   "cell_type": "code",
   "execution_count": null,
   "id": "3668a0da",
   "metadata": {},
   "outputs": [],
   "source": []
  },
  {
   "cell_type": "code",
   "execution_count": null,
   "id": "5e457b1c",
   "metadata": {},
   "outputs": [],
   "source": []
  },
  {
   "cell_type": "code",
   "execution_count": null,
   "id": "e65f610c",
   "metadata": {},
   "outputs": [],
   "source": []
  }
 ],
 "metadata": {
  "kernelspec": {
   "display_name": "Python 3 (ipykernel)",
   "language": "python",
   "name": "python3"
  },
  "language_info": {
   "codemirror_mode": {
    "name": "ipython",
    "version": 3
   },
   "file_extension": ".py",
   "mimetype": "text/x-python",
   "name": "python",
   "nbconvert_exporter": "python",
   "pygments_lexer": "ipython3",
   "version": "3.10.9"
  }
 },
 "nbformat": 4,
 "nbformat_minor": 5
}
