{
 "cells": [
  {
   "cell_type": "code",
   "execution_count": 1,
   "id": "31a154f8",
   "metadata": {},
   "outputs": [],
   "source": [
    "from pyspark.sql.types import StructType,StructField, StringType\n",
    "from pyspark.sql.functions import col\n",
    "from pyspark.sql import Row"
   ]
  },
  {
   "cell_type": "code",
   "execution_count": 2,
   "id": "9e5e45be",
   "metadata": {},
   "outputs": [
    {
     "name": "stdout",
     "output_type": "stream",
     "text": [
      "root\n",
      " |-- firstname: string (nullable = true)\n",
      " |-- middlename: string (nullable = true)\n",
      " |-- lastname: string (nullable = true)\n",
      "\n"
     ]
    }
   ],
   "source": [
    "#Se crea un Data Drame vacio\n",
    "schema = StructType([\n",
    "  StructField('firstname', StringType(), True),\n",
    "  StructField('middlename', StringType(), True),\n",
    "  StructField('lastname', StringType(), True)\n",
    "  ])\n",
    "emptyRDD = spark.sparkContext.emptyRDD()\n",
    "df = spark.createDataFrame(emptyRDD,schema)\n",
    "\n",
    "df.printSchema()"
   ]
  },
  {
   "cell_type": "code",
   "execution_count": 3,
   "id": "2195e9fe",
   "metadata": {},
   "outputs": [
    {
     "name": "stdout",
     "output_type": "stream",
     "text": [
      "+---------+----------+--------+\n",
      "|firstname|middlename|lastname|\n",
      "+---------+----------+--------+\n",
      "|      Ana|   Cecilia|   Tello|\n",
      "|    Andre|     Pablo|  Juarez|\n",
      "+---------+----------+--------+\n",
      "\n"
     ]
    }
   ],
   "source": [
    "#Se crea un Dataframe a partir de un RDD y un objeto Schema\n",
    "data=[('Ana','Cecilia','Tello'),('Andre','Pablo','Juarez')]\n",
    "rdd=spark.sparkContext.parallelize(data)\n",
    "df = rdd.toDF(schema)\n",
    "df.show()"
   ]
  },
  {
   "cell_type": "code",
   "execution_count": 4,
   "id": "24418437",
   "metadata": {},
   "outputs": [
    {
     "name": "stdout",
     "output_type": "stream",
     "text": [
      "root\n",
      " |-- name: string (nullable = true)\n",
      " |-- age: long (nullable = true)\n",
      "\n"
     ]
    }
   ],
   "source": [
    "#Se crea un Dataframe a partir de una coleccion y especificando en nombre de los campos\n",
    "data2=[(\"Alex\",21),(\"Jenn\",33)]\n",
    "df2=spark.createDataFrame(data2).toDF(\"name\",\"age\")\n",
    "df2.printSchema()"
   ]
  },
  {
   "cell_type": "code",
   "execution_count": 5,
   "id": "0f065070",
   "metadata": {},
   "outputs": [
    {
     "name": "stdout",
     "output_type": "stream",
     "text": [
      "+--------+\n",
      "|lastname|\n",
      "+--------+\n",
      "|   Tello|\n",
      "|  Juarez|\n",
      "+--------+\n",
      "\n"
     ]
    }
   ],
   "source": [
    "#df.select(df['lastname']).show()\n",
    "#df.select(col('lastname')).show()\n",
    "df.select('lastname').show()"
   ]
  },
  {
   "cell_type": "code",
   "execution_count": 13,
   "id": "22197da4",
   "metadata": {},
   "outputs": [
    {
     "name": "stdout",
     "output_type": "stream",
     "text": [
      "root\n",
      " |-- vuelo: string (nullable = true)\n",
      " |-- coordenadas: struct (nullable = true)\n",
      " |    |-- lat: string (nullable = true)\n",
      " |    |-- long: string (nullable = true)\n",
      "\n"
     ]
    }
   ],
   "source": [
    "#Creamos un dataframe usando objetos Row\n",
    "data_vuelo=[Row(vuelo=\"A108\",coordenadas=Row(lat=\"128\",long=\"335\")),\n",
    "            Row(vuelo=\"A211\",coordenadas=Row(lat=\"258\",long=\"111\")),\n",
    "            Row(vuelo=\"A369\",coordenadas=None)]\n",
    "df_vuelos=spark.createDataFrame(data_vuelo)\n",
    "df_vuelos.printSchema()"
   ]
  },
  {
   "cell_type": "code",
   "execution_count": null,
   "id": "a1ec03b0",
   "metadata": {},
   "outputs": [],
   "source": [
    "df_vuelos.show()"
   ]
  }
 ],
 "metadata": {
  "kernelspec": {
   "display_name": "Python 3 (ipykernel)",
   "language": "python",
   "name": "python3"
  },
  "language_info": {
   "codemirror_mode": {
    "name": "ipython",
    "version": 3
   },
   "file_extension": ".py",
   "mimetype": "text/x-python",
   "name": "python",
   "nbconvert_exporter": "python",
   "pygments_lexer": "ipython3",
   "version": "3.8.3"
  }
 },
 "nbformat": 4,
 "nbformat_minor": 5
}
