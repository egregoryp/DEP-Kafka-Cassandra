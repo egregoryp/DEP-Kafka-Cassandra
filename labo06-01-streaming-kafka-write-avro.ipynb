{
 "cells": [
  {
   "cell_type": "code",
   "execution_count": 1,
   "id": "9c172ef5",
   "metadata": {},
   "outputs": [],
   "source": [
    "from pyspark.sql.avro.functions import to_avro\n",
    "from pyspark.sql.functions import from_json, col, expr, struct\n",
    "from pyspark.sql.types import ArrayType, StructType, StructField, StringType, LongType, DoubleType, IntegerType"
   ]
  },
  {
   "cell_type": "code",
   "execution_count": 2,
   "id": "a19470ae",
   "metadata": {},
   "outputs": [],
   "source": [
    "spark = SparkSession \\\n",
    "        .builder \\\n",
    "        .appName(\"Multi Query Demo\") \\\n",
    "        .master(\"local[3]\") \\\n",
    "        .config(\"spark.streaming.stopGracefullyOnShutdown\", \"true\") \\\n",
    "        .getOrCreate()"
   ]
  },
  {
   "cell_type": "code",
   "execution_count": 3,
   "id": "f8a4870d",
   "metadata": {},
   "outputs": [],
   "source": [
    "schema = StructType([\n",
    "        StructField(\"InvoiceNumber\", StringType()),\n",
    "        StructField(\"CreatedTime\", LongType()),\n",
    "        StructField(\"StoreID\", StringType()),\n",
    "        StructField(\"PosID\", StringType()),\n",
    "        StructField(\"CashierID\", StringType()),\n",
    "        StructField(\"CustomerType\", StringType()),\n",
    "        StructField(\"CustomerCardNo\", StringType()),\n",
    "        StructField(\"TotalAmount\", DoubleType()),\n",
    "        StructField(\"NumberOfItems\", IntegerType()),\n",
    "        StructField(\"PaymentMethod\", StringType()),\n",
    "        StructField(\"CGST\", DoubleType()),\n",
    "        StructField(\"SGST\", DoubleType()),\n",
    "        StructField(\"CESS\", DoubleType()),\n",
    "        StructField(\"DeliveryType\", StringType()),\n",
    "        StructField(\"DeliveryAddress\", StructType([\n",
    "            StructField(\"AddressLine\", StringType()),\n",
    "            StructField(\"City\", StringType()),\n",
    "            StructField(\"State\", StringType()),\n",
    "            StructField(\"PinCode\", StringType()),\n",
    "            StructField(\"ContactNumber\", StringType())\n",
    "        ])),\n",
    "        StructField(\"InvoiceLineItems\", ArrayType(StructType([\n",
    "            StructField(\"ItemCode\", StringType()),\n",
    "            StructField(\"ItemDescription\", StringType()),\n",
    "            StructField(\"ItemPrice\", DoubleType()),\n",
    "            StructField(\"ItemQty\", IntegerType()),\n",
    "            StructField(\"TotalValue\", DoubleType())\n",
    "        ]))),\n",
    "    ])"
   ]
  },
  {
   "cell_type": "code",
   "execution_count": 4,
   "id": "ecdb74c8",
   "metadata": {},
   "outputs": [],
   "source": [
    "kafka_df = spark.readStream \\\n",
    "        .format(\"kafka\") \\\n",
    "        .option(\"kafka.bootstrap.servers\", \"localhost:9092\") \\\n",
    "        .option(\"subscribe\", \"invoices\") \\\n",
    "        .option(\"startingOffsets\", \"earliest\") \\\n",
    "        .load()"
   ]
  },
  {
   "cell_type": "code",
   "execution_count": 5,
   "id": "df8ee4f8",
   "metadata": {},
   "outputs": [],
   "source": [
    "value_df = kafka_df.select(from_json(col(\"value\").cast(\"string\"), schema).alias(\"value\"))"
   ]
  },
  {
   "cell_type": "code",
   "execution_count": 6,
   "id": "9fe7cc12",
   "metadata": {},
   "outputs": [],
   "source": [
    "explode_df = value_df.selectExpr(\"value.InvoiceNumber\", \"value.CreatedTime\", \"value.StoreID\",\n",
    "                                     \"value.PosID\", \"value.CustomerType\", \"value.CustomerCardNo\", \"value.DeliveryType\",\n",
    "                                     \"value.DeliveryAddress.City\",\n",
    "                                     \"value.DeliveryAddress.State\", \"value.DeliveryAddress.PinCode\",\n",
    "                                     \"explode(value.InvoiceLineItems) as LineItem\")"
   ]
  },
  {
   "cell_type": "code",
   "execution_count": 7,
   "id": "0d9fc05b",
   "metadata": {},
   "outputs": [],
   "source": [
    "flattened_df = explode_df \\\n",
    "        .withColumn(\"ItemCode\", expr(\"LineItem.ItemCode\")) \\\n",
    "        .withColumn(\"ItemDescription\", expr(\"LineItem.ItemDescription\")) \\\n",
    "        .withColumn(\"ItemPrice\", expr(\"LineItem.ItemPrice\")) \\\n",
    "        .withColumn(\"ItemQty\", expr(\"LineItem.ItemQty\")) \\\n",
    "        .withColumn(\"TotalValue\", expr(\"LineItem.TotalValue\")) \\\n",
    "        .drop(\"LineItem\")"
   ]
  },
  {
   "cell_type": "code",
   "execution_count": 8,
   "id": "ddc369c8",
   "metadata": {},
   "outputs": [
    {
     "name": "stdout",
     "output_type": "stream",
     "text": [
      "root\n",
      " |-- InvoiceNumber: string (nullable = true)\n",
      " |-- CreatedTime: long (nullable = true)\n",
      " |-- StoreID: string (nullable = true)\n",
      " |-- PosID: string (nullable = true)\n",
      " |-- CustomerType: string (nullable = true)\n",
      " |-- CustomerCardNo: string (nullable = true)\n",
      " |-- DeliveryType: string (nullable = true)\n",
      " |-- City: string (nullable = true)\n",
      " |-- State: string (nullable = true)\n",
      " |-- PinCode: string (nullable = true)\n",
      " |-- ItemCode: string (nullable = true)\n",
      " |-- ItemDescription: string (nullable = true)\n",
      " |-- ItemPrice: double (nullable = true)\n",
      " |-- ItemQty: integer (nullable = true)\n",
      " |-- TotalValue: double (nullable = true)\n",
      "\n"
     ]
    }
   ],
   "source": [
    "flattened_df.printSchema()"
   ]
  },
  {
   "cell_type": "code",
   "execution_count": 9,
   "id": "a2feb7a7",
   "metadata": {},
   "outputs": [],
   "source": [
    "kafka_target_df = flattened_df.select(expr(\"InvoiceNumber as key\"),\n",
    "                                          to_avro(struct(\"*\")).alias(\"value\"))"
   ]
  },
  {
   "cell_type": "code",
   "execution_count": 10,
   "id": "082a5dd2",
   "metadata": {},
   "outputs": [],
   "source": [
    "#para archivos siempre debe ser append\n",
    "invoice_writer_query = kafka_target_df \\\n",
    "        .writeStream \\\n",
    "        .queryName(\"Flattened Invoice Writer\") \\\n",
    "        .format(\"kafka\") \\\n",
    "        .option(\"kafka.bootstrap.servers\", \"localhost:9092\") \\\n",
    "        .option(\"topic\", \"invoice-items\") \\\n",
    "        .outputMode(\"append\") \\\n",
    "        .option(\"checkpointLocation\", \"./checkpoints/invoice-items-avro\") \\\n",
    "        .start()"
   ]
  },
  {
   "cell_type": "code",
   "execution_count": null,
   "id": "8bf52a28",
   "metadata": {},
   "outputs": [],
   "source": [
    "invoice_writer_query.awaitTermination()"
   ]
  }
 ],
 "metadata": {
  "kernelspec": {
   "display_name": "Python 3 (ipykernel)",
   "language": "python",
   "name": "python3"
  },
  "language_info": {
   "codemirror_mode": {
    "name": "ipython",
    "version": 3
   },
   "file_extension": ".py",
   "mimetype": "text/x-python",
   "name": "python",
   "nbconvert_exporter": "python",
   "pygments_lexer": "ipython3",
   "version": "3.10.9"
  }
 },
 "nbformat": 4,
 "nbformat_minor": 5
}
