{
 "cells": [
  {
   "cell_type": "code",
   "execution_count": 14,
   "id": "3add7813",
   "metadata": {},
   "outputs": [],
   "source": [
    "from pyspark.sql.functions import from_json, col, to_timestamp\n",
    "from pyspark.sql.types import StructType, StructField, StringType, IntegerType\n",
    "from pyspark.sql import SparkSession"
   ]
  },
  {
   "cell_type": "code",
   "execution_count": 15,
   "id": "baa665c4",
   "metadata": {},
   "outputs": [],
   "source": [
    "def write_to_mysql(df, batch_id):\n",
    "    df.write \\\n",
    "        .format(\"jdbc\") \\\n",
    "        .option(\"driver\",\"com.mysql.cj.jdbc.Driver\") \\\n",
    "        .option(\"url\", \"jdbc:mysql://127.0.0.1:3306/spark_db\") \\\n",
    "        .option(\"dbtable\", \"customer_search\") \\\n",
    "        .option(\"user\", \"root\") \\\n",
    "        .option(\"password\", \"root\") \\\n",
    "        .save()\n",
    "    df.show()"
   ]
  },
  {
   "cell_type": "code",
   "execution_count": 16,
   "id": "5bb8b019",
   "metadata": {},
   "outputs": [],
   "source": [
    "spark = SparkSession \\\n",
    "        .builder \\\n",
    "        .master(\"local[3]\") \\\n",
    "        .appName(\"Stream Table Join Demo\") \\\n",
    "        .config(\"spark.streaming.stopGracefullyOnShutdown\", \"true\") \\\n",
    "        .config(\"spark.sql.shuffle.partitions\", 2) \\\n",
    "        .config(\"spark.jars\", \"mysql-connector-java-8.0.13.jar\") \\\n",
    "        .getOrCreate()"
   ]
  },
  {
   "cell_type": "code",
   "execution_count": 17,
   "id": "d4ae92e7",
   "metadata": {},
   "outputs": [],
   "source": [
    "search_schema = StructType([\n",
    "        StructField(\"id\", StringType()),\n",
    "        StructField(\"customer_id\", StringType()),\n",
    "        StructField(\"customer_name\", StringType()),\n",
    "        StructField(\"product_searched\", StringType()),\n",
    "        StructField(\"search_date\", StringType()),\n",
    "        StructField(\"country_name\", StringType()),\n",
    "        StructField(\"state\", StringType())\n",
    "    ])"
   ]
  },
  {
   "cell_type": "code",
   "execution_count": 18,
   "id": "1da74b1e",
   "metadata": {},
   "outputs": [],
   "source": [
    "kafka_source_df = spark \\\n",
    "        .readStream \\\n",
    "        .format(\"kafka\") \\\n",
    "        .option(\"kafka.bootstrap.servers\", \"localhost:9092\") \\\n",
    "        .option(\"subscribe\", \"product-customer-qty\") \\\n",
    "        .option(\"startingOffsets\", \"earliest\") \\\n",
    "        .option(\"failOnDataLoss\", False) \\\n",
    "        .load()"
   ]
  },
  {
   "cell_type": "code",
   "execution_count": 19,
   "id": "5f053f38",
   "metadata": {},
   "outputs": [],
   "source": [
    "value_df = kafka_source_df.select(from_json(col(\"value\").cast(\"string\"), search_schema).alias(\"value\"))"
   ]
  },
  {
   "cell_type": "code",
   "execution_count": 20,
   "id": "5b6b2e9d",
   "metadata": {},
   "outputs": [],
   "source": [
    "prod_customer_df = value_df.select(\"value.*\") \\\n",
    "        .withColumn(\"search_date\", to_timestamp(col(\"search_date\"), \"yyyy-MM-dd HH:mm:ss\"))"
   ]
  },
  {
   "cell_type": "code",
   "execution_count": 21,
   "id": "d2bc8cdd",
   "metadata": {},
   "outputs": [],
   "source": [
    "prod_customer_df.printSchema()"
   ]
  },
  {
   "cell_type": "code",
   "execution_count": 22,
   "id": "60222bb6",
   "metadata": {},
   "outputs": [],
   "source": [
    "output_df = prod_customer_df.select(col(\"id\"), col(\"customer_id\"), col(\"customer_name\"), col(\"product_searched\"), \n",
    "                             col(\"search_date\"), col(\"country_name\"),col(\"state\"))\n",
    "#                             .withColumn(\"idNum\", col(\"customer_id\").cast(IntegerType())) \\\n",
    "#                             .withColumn(\"id\",    col(\"id\").cast(IntegerType()))"
   ]
  },
  {
   "cell_type": "code",
   "execution_count": 23,
   "id": "acc4a61b",
   "metadata": {},
   "outputs": [],
   "source": [
    "# #to view the data in the console\n",
    "# notification_writer_query = output_df.writeStream \\\n",
    "#         .format(\"console\") \\\n",
    "#         .outputMode(\"append\") \\\n",
    "#         .option(\"truncate\", \"false\") \\\n",
    "#         .option(\"checkpointLocation\", \"./checkpoints/cassandra-proj/\") \\\n",
    "#         .start()\n",
    "\n",
    "# # notification_writer_query.awaitTermination()"
   ]
  },
  {
   "cell_type": "code",
   "execution_count": 24,
   "id": "20cca931",
   "metadata": {},
   "outputs": [],
   "source": [
    "#Aggregations Val\n",
    "\n",
    "# agg_output_df = output_df.groupBy(\"country_name\", \"product_searched\")\\\n",
    "#       .agg(count(\"id\")).alias(\"search_qty\")\n",
    "\n",
    "# agg_search_locations_df = output_df.groupBy(\"name\")\\\n",
    "#      .agg(sum(\"idNum\"), count(\"id\"))"
   ]
  },
  {
   "cell_type": "code",
   "execution_count": 25,
   "id": "86d4389f",
   "metadata": {},
   "outputs": [],
   "source": [
    "query = output_df.writeStream \\\n",
    "                 .foreachBatch(write_to_mysql) \\\n",
    "                 .outputMode(\"update\") \\\n",
    "                 .option(\"checkpointLocation\", \"./checkpoints/mysql-proj\") \\\n",
    "                 .trigger(processingTime=\"1 minute\") \\\n",
    "                 .start()"
   ]
  },
  {
   "cell_type": "code",
   "execution_count": 26,
   "id": "eed1fe2c",
   "metadata": {},
   "outputs": [],
   "source": [
    "query.awaitTermination()"
   ]
  }
 ],
 "metadata": {
  "kernelspec": {
   "display_name": "Python 3 (ipykernel)",
   "language": "python",
   "name": "python3"
  },
  "language_info": {
   "codemirror_mode": {
    "name": "ipython",
    "version": 3
   },
   "file_extension": ".py",
   "mimetype": "text/x-python",
   "name": "python",
   "nbconvert_exporter": "python",
   "pygments_lexer": "ipython3",
   "version": "3.10.9"
  }
 },
 "nbformat": 4,
 "nbformat_minor": 5
}
