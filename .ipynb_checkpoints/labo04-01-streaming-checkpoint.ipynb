{
 "cells": [
  {
   "cell_type": "code",
   "execution_count": 1,
   "id": "c2386670",
   "metadata": {},
   "outputs": [],
   "source": [
    "# from pyspark.context import SparkContext\n",
    "# from pyspark.sql.session import SparkSession\n",
    "# # sc = SparkContext('local')\n",
    "# # spark = SparkSession(sc)\n",
    "\n",
    "# # Create a SparkSession object\n",
    "# spark = SparkSession.builder \\\n",
    "#     .appName(\"MyApp\") \\\n",
    "#     .master(\"local[2]\") \\\n",
    "#     .config(\"spark.memory.offHeap.enabled\",\"true\") \\\n",
    "#     .config(\"spark.memory.offHeap.size\",\"10g\") \\\n",
    "#     .getOrCreate()"
   ]
  },
  {
   "cell_type": "code",
   "execution_count": 2,
   "id": "8d58ac67",
   "metadata": {},
   "outputs": [],
   "source": [
    "from pyspark.sql.functions import expr\n",
    "from IPython.display import display, clear_output\n",
    "import time"
   ]
  },
  {
   "cell_type": "code",
   "execution_count": 3,
   "id": "b1a6b5f8",
   "metadata": {},
   "outputs": [],
   "source": [
    "#puede ser kafka, socket, archivos, etc\n",
    "#socket es solo usado en pruebas\n",
    "lines_df=spark.readStream.format(\"socket\").option(\"host\",\"localhost\").option(\"port\",\"9999\").load()"
   ]
  },
  {
   "cell_type": "code",
   "execution_count": 4,
   "id": "6ecd3632",
   "metadata": {},
   "outputs": [],
   "source": [
    "words_df=lines_df.select(expr(\"explode(split(value,' ')) as word\"))"
   ]
  },
  {
   "cell_type": "code",
   "execution_count": 5,
   "id": "81c6f4be",
   "metadata": {},
   "outputs": [
    {
     "name": "stdout",
     "output_type": "stream",
     "text": [
      "root\n",
      " |-- word: string (nullable = false)\n",
      "\n"
     ]
    }
   ],
   "source": [
    "words_df.printSchema()"
   ]
  },
  {
   "cell_type": "code",
   "execution_count": 6,
   "id": "dc23a585",
   "metadata": {},
   "outputs": [],
   "source": [
    "#append no soporta agregaciones porq solo mostrara lo ultimo\n",
    "counts_df=words_df.groupBy(\"word\").count()"
   ]
  },
  {
   "cell_type": "code",
   "execution_count": null,
   "id": "e980cbe7",
   "metadata": {},
   "outputs": [],
   "source": [
    "#ESTO ES PARA VER LOS RESULTADOS EN LA CONSOLA\n",
    "word_count_query=counts_df.writeStream.\\\n",
    "                          format(\"console\").\\\n",
    "                          option(\"checkpointLocation\",\"./streaming/chk-point-dir\").\\\n",
    "                          outputMode(\"complete\").\\\n",
    "                          start()\n",
    "word_count_query.awaitTermination()"
   ]
  },
  {
   "cell_type": "code",
   "execution_count": null,
   "id": "badcd2b6",
   "metadata": {},
   "outputs": [],
   "source": [
    "#ESTO ES PARA VER LOS RESULTADOS EN EL OUTPUT DE LA CELDA DE JUPYTER\n",
    "word_count_query=counts_df.writeStream.\\\n",
    "                          format(\"memory\").\\\n",
    "                          option(\"checkpointLocation\",\"./streaming/chk-point-dir\").\\\n",
    "                          outputMode(\"complete\").\\\n",
    "                          queryName(\"word_count_tbl\").\\\n",
    "                          start()"
   ]
  },
  {
   "cell_type": "code",
   "execution_count": null,
   "id": "7434d383",
   "metadata": {},
   "outputs": [],
   "source": [
    "#IMPRIME LOS RESULTADOS EN EL OUTPUT DE LA CELDA DEL JUPYTER\n",
    "while True:\n",
    "    clear_output(wait=True)\n",
    "    display(word_count_query.status)\n",
    "    display(spark.sql('SELECT * FROM word_count_tbl').show())\n",
    "    time.sleep(5)"
   ]
  },
  {
   "cell_type": "code",
   "execution_count": null,
   "id": "5aa3a6a2",
   "metadata": {},
   "outputs": [],
   "source": [
    "lines_df.printSchema()"
   ]
  },
  {
   "cell_type": "code",
   "execution_count": null,
   "id": "0f4f889f",
   "metadata": {},
   "outputs": [],
   "source": [
    "#ESTO ES PARA VER LOS RESULTADOS EN LA CONSOLA\n",
    "word_query=words_df.writeStream.\\\n",
    "                          format(\"console\").\\\n",
    "                          option(\"checkpointLocation\",\"./streaming/chk-point-dir\").\\\n",
    "                          outputMode(\"append\").\\\n",
    "                          start()\n",
    "word_query.awaitTermination()"
   ]
  },
  {
   "cell_type": "code",
   "execution_count": null,
   "id": "0e717798",
   "metadata": {},
   "outputs": [],
   "source": []
  },
  {
   "cell_type": "code",
   "execution_count": null,
   "id": "a175f44c",
   "metadata": {},
   "outputs": [],
   "source": []
  }
 ],
 "metadata": {
  "kernelspec": {
   "display_name": "Python 3 (ipykernel)",
   "language": "python",
   "name": "python3"
  },
  "language_info": {
   "codemirror_mode": {
    "name": "ipython",
    "version": 3
   },
   "file_extension": ".py",
   "mimetype": "text/x-python",
   "name": "python",
   "nbconvert_exporter": "python",
   "pygments_lexer": "ipython3",
   "version": "3.10.9"
  }
 },
 "nbformat": 4,
 "nbformat_minor": 5
}
