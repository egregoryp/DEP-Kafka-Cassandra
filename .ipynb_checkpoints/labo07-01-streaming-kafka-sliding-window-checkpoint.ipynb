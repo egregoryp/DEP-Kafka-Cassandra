{
 "cells": [
  {
   "cell_type": "code",
   "execution_count": 1,
   "id": "de0b7021",
   "metadata": {},
   "outputs": [],
   "source": [
    "#Cargamos las librerias\n",
    "from pyspark.sql.functions import from_json, col, to_timestamp, window, max\n",
    "from pyspark.sql.types import StructType, StructField, StringType, DoubleType"
   ]
  },
  {
   "cell_type": "code",
   "execution_count": 2,
   "id": "0f005ea0",
   "metadata": {},
   "outputs": [],
   "source": [
    "#creamos la session de spark\n",
    "spark = SparkSession \\\n",
    "        .builder \\\n",
    "        .master(\"local[3]\") \\\n",
    "        .appName(\"Sliding Window Demo\") \\\n",
    "        .config(\"spark.streaming.stopGracefullyOnShutdown\", \"true\") \\\n",
    "        .config(\"spark.sql.shuffle.partitions\", 1) \\\n",
    "        .getOrCreate()"
   ]
  },
  {
   "cell_type": "code",
   "execution_count": 3,
   "id": "64455645",
   "metadata": {},
   "outputs": [],
   "source": [
    "#declaramos la estructura del sensor\n",
    "schema = StructType([\n",
    "        StructField(\"CreatedTime\", StringType()),\n",
    "        StructField(\"Reading\", DoubleType())\n",
    "    ])"
   ]
  },
  {
   "cell_type": "code",
   "execution_count": 4,
   "id": "29440459",
   "metadata": {},
   "outputs": [],
   "source": [
    "#creamos el objeto de lectura\n",
    "kafka_source_df = spark \\\n",
    "        .readStream \\\n",
    "        .format(\"kafka\") \\\n",
    "        .option(\"kafka.bootstrap.servers\", \"localhost:9092\") \\\n",
    "        .option(\"subscribe\", \"sensor\") \\\n",
    "        .option(\"startingOffsets\", \"earliest\") \\\n",
    "        .load()"
   ]
  },
  {
   "cell_type": "code",
   "execution_count": 5,
   "id": "d42cc20e",
   "metadata": {},
   "outputs": [],
   "source": [
    "value_df = kafka_source_df.select(col(\"key\").cast(\"string\").alias(\"SensorID\"),\n",
    "                                      from_json(col(\"value\").cast(\"string\"), schema).alias(\"value\"))"
   ]
  },
  {
   "cell_type": "code",
   "execution_count": 6,
   "id": "f0860443",
   "metadata": {},
   "outputs": [],
   "source": [
    "sensor_df = value_df.select(\"SensorID\", \"value.*\") \\\n",
    "        .withColumn(\"CreatedTime\", to_timestamp(col(\"CreatedTime\"), \"yyyy-MM-dd HH:mm:ss\"))"
   ]
  },
  {
   "cell_type": "code",
   "execution_count": 7,
   "id": "73dd6b69",
   "metadata": {},
   "outputs": [],
   "source": [
    "agg_df = sensor_df \\\n",
    "        .withWatermark(\"CreatedTime\", \"30 minute\") \\\n",
    "        .groupBy(col(\"SensorID\"),\n",
    "                 window(col(\"CreatedTime\"), \"15 minute\", \"5 minute\")) \\\n",
    "        .agg(max(\"Reading\").alias(\"MaxReading\"))"
   ]
  },
  {
   "cell_type": "code",
   "execution_count": 8,
   "id": "c8b62620",
   "metadata": {},
   "outputs": [],
   "source": [
    "output_df = agg_df.select(\"SensorID\", \"window.start\", \"window.end\", \"MaxReading\")"
   ]
  },
  {
   "cell_type": "code",
   "execution_count": 10,
   "id": "bb18206c",
   "metadata": {},
   "outputs": [],
   "source": [
    "window_query = output_df.writeStream \\\n",
    "        .format(\"console\") \\\n",
    "        .outputMode(\"complete\") \\\n",
    "        .option(\"checkpointLocation\", \"./checkpoint/sliding-window\") \\\n",
    "        .trigger(processingTime=\"30 second\") \\\n",
    "        .start()"
   ]
  },
  {
   "cell_type": "code",
   "execution_count": null,
   "id": "8276c02c",
   "metadata": {},
   "outputs": [],
   "source": [
    "window_query.awaitTermination()"
   ]
  }
 ],
 "metadata": {
  "kernelspec": {
   "display_name": "Python 3 (ipykernel)",
   "language": "python",
   "name": "python3"
  },
  "language_info": {
   "codemirror_mode": {
    "name": "ipython",
    "version": 3
   },
   "file_extension": ".py",
   "mimetype": "text/x-python",
   "name": "python",
   "nbconvert_exporter": "python",
   "pygments_lexer": "ipython3",
   "version": "3.10.9"
  }
 },
 "nbformat": 4,
 "nbformat_minor": 5
}
