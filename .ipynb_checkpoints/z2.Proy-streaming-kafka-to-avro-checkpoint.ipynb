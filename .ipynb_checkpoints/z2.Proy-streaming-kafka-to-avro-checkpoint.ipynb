{
 "cells": [
  {
   "cell_type": "code",
   "execution_count": 1,
   "id": "9c172ef5",
   "metadata": {},
   "outputs": [],
   "source": [
    "from pyspark.sql.avro.functions import to_avro\n",
    "from pyspark.sql.functions import from_json, col, expr, struct\n",
    "from pyspark.sql.types import ArrayType, StructType, StructField, StringType, LongType, DoubleType, IntegerType"
   ]
  },
  {
   "cell_type": "code",
   "execution_count": 2,
   "id": "a19470ae",
   "metadata": {},
   "outputs": [],
   "source": [
    "spark = SparkSession \\\n",
    "        .builder \\\n",
    "        .appName(\"Multi Query Demo\") \\\n",
    "        .master(\"local[3]\") \\\n",
    "        .config(\"spark.streaming.stopGracefullyOnShutdown\", \"true\") \\\n",
    "        .getOrCreate()"
   ]
  },
  {
   "cell_type": "code",
   "execution_count": 3,
   "id": "f8a4870d",
   "metadata": {},
   "outputs": [],
   "source": [
    "schema = StructType([\n",
    "        StructField(\"id\", StringType()),\n",
    "        StructField(\"name\", StringType()),\n",
    "        StructField(\"age\", IntegerType()),\n",
    "        StructField(\"address\", StringType()),\n",
    "        StructField(\"email\", StringType()),\n",
    "        StructField(\"CreatedTime\", LongType())        \n",
    "        ])"
   ]
  },
  {
   "cell_type": "code",
   "execution_count": 4,
   "id": "ecdb74c8",
   "metadata": {},
   "outputs": [],
   "source": [
    "kafka_df = spark.readStream \\\n",
    "        .format(\"kafka\") \\\n",
    "        .option(\"kafka.bootstrap.servers\", \"localhost:9092\") \\\n",
    "        .option(\"subscribe\", \"consumer-data\") \\\n",
    "        .option(\"startingOffsets\", \"earliest\") \\\n",
    "        .load()"
   ]
  },
  {
   "cell_type": "code",
   "execution_count": 5,
   "id": "df8ee4f8",
   "metadata": {},
   "outputs": [],
   "source": [
    "value_df = kafka_df.select(from_json(col(\"value\").cast(\"string\"), schema).alias(\"value\"))"
   ]
  },
  {
   "cell_type": "code",
   "execution_count": 6,
   "id": "9fe7cc12",
   "metadata": {},
   "outputs": [],
   "source": [
    "exp_df = value_df.selectExpr(\"value.id\", \"value.name\", \"value.age\", \"value.address\", \"value.email\", \"value.CreatedTime\")"
   ]
  },
  {
   "cell_type": "code",
   "execution_count": 7,
   "id": "ddc369c8",
   "metadata": {},
   "outputs": [
    {
     "name": "stdout",
     "output_type": "stream",
     "text": [
      "root\n",
      " |-- id: string (nullable = true)\n",
      " |-- name: string (nullable = true)\n",
      " |-- age: integer (nullable = true)\n",
      " |-- address: string (nullable = true)\n",
      " |-- email: string (nullable = true)\n",
      " |-- CreatedTime: long (nullable = true)\n",
      "\n"
     ]
    }
   ],
   "source": [
    "exp_df.printSchema()"
   ]
  },
  {
   "cell_type": "code",
   "execution_count": 8,
   "id": "a2feb7a7",
   "metadata": {},
   "outputs": [],
   "source": [
    "kafka_target_df = exp_df.select(expr(\"id as key\"), to_avro(struct(\"*\")).alias(\"value\"))"
   ]
  },
  {
   "cell_type": "code",
   "execution_count": null,
   "id": "082a5dd2",
   "metadata": {},
   "outputs": [],
   "source": [
    "#para archivos siempre debe ser append\n",
    "invoice_writer_query = kafka_target_df \\\n",
    "        .writeStream \\\n",
    "        .queryName(\"Flattened Customer Data\") \\\n",
    "        .format(\"kafka\") \\\n",
    "        .option(\"kafka.bootstrap.servers\", \"localhost:9092\") \\\n",
    "        .option(\"topic\", \"customer-data-out\") \\\n",
    "        .outputMode(\"append\") \\\n",
    "        .option(\"checkpointLocation\", \"./checkpoints/customer-data-avro\") \\\n",
    "        .start()"
   ]
  },
  {
   "cell_type": "code",
   "execution_count": null,
   "id": "8bf52a28",
   "metadata": {},
   "outputs": [],
   "source": [
    "invoice_writer_query.awaitTermination()"
   ]
  }
 ],
 "metadata": {
  "kernelspec": {
   "display_name": "Python 3 (ipykernel)",
   "language": "python",
   "name": "python3"
  },
  "language_info": {
   "codemirror_mode": {
    "name": "ipython",
    "version": 3
   },
   "file_extension": ".py",
   "mimetype": "text/x-python",
   "name": "python",
   "nbconvert_exporter": "python",
   "pygments_lexer": "ipython3",
   "version": "3.10.9"
  }
 },
 "nbformat": 4,
 "nbformat_minor": 5
}
