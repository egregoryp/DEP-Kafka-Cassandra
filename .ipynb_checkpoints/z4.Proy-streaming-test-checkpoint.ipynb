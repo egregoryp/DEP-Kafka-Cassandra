{
 "cells": [
  {
   "cell_type": "code",
   "execution_count": 1,
   "id": "9c172ef5",
   "metadata": {},
   "outputs": [
    {
     "ename": "ModuleNotFoundError",
     "evalue": "No module named 'pyspark.streaming.kafka'",
     "output_type": "error",
     "traceback": [
      "\u001b[1;31m---------------------------------------------------------------------------\u001b[0m",
      "\u001b[1;31mModuleNotFoundError\u001b[0m                       Traceback (most recent call last)",
      "Cell \u001b[1;32mIn[1], line 2\u001b[0m\n\u001b[0;32m      1\u001b[0m \u001b[38;5;28;01mfrom\u001b[39;00m \u001b[38;5;21;01mpyspark\u001b[39;00m\u001b[38;5;21;01m.\u001b[39;00m\u001b[38;5;21;01msql\u001b[39;00m \u001b[38;5;28;01mimport\u001b[39;00m SparkSession\n\u001b[1;32m----> 2\u001b[0m \u001b[38;5;28;01mfrom\u001b[39;00m \u001b[38;5;21;01mpyspark\u001b[39;00m\u001b[38;5;21;01m.\u001b[39;00m\u001b[38;5;21;01mstreaming\u001b[39;00m\u001b[38;5;21;01m.\u001b[39;00m\u001b[38;5;21;01mkafka\u001b[39;00m \u001b[38;5;28;01mimport\u001b[39;00m KafkaUtils\n\u001b[0;32m      3\u001b[0m \u001b[38;5;28;01mfrom\u001b[39;00m \u001b[38;5;21;01mpyspark\u001b[39;00m\u001b[38;5;21;01m.\u001b[39;00m\u001b[38;5;21;01mstreaming\u001b[39;00m \u001b[38;5;28;01mimport\u001b[39;00m StreamingContext\n\u001b[0;32m      4\u001b[0m \u001b[38;5;28;01mfrom\u001b[39;00m \u001b[38;5;21;01mpyspark\u001b[39;00m \u001b[38;5;28;01mimport\u001b[39;00m SparkConf\n",
      "\u001b[1;31mModuleNotFoundError\u001b[0m: No module named 'pyspark.streaming.kafka'"
     ]
    }
   ],
   "source": [
    "from pyspark.sql import SparkSession\n",
    "from pyspark.streaming.kafka import KafkaUtils\n",
    "from pyspark.streaming import StreamingContext\n",
    "from pyspark import SparkConf\n",
    "import json"
   ]
  },
  {
   "cell_type": "code",
   "execution_count": null,
   "id": "58ec6863",
   "metadata": {},
   "outputs": [],
   "source": [
    "# Define the Kafka topic to read from\n",
    "topic_name = \"consumer-data\""
   ]
  },
  {
   "cell_type": "code",
   "execution_count": 3,
   "id": "a19470ae",
   "metadata": {},
   "outputs": [],
   "source": [
    "# Create SparkConf object and set app name\n",
    "conf = SparkConf().setAppName(\"KafkaStreamingApp\")\n",
    "\n",
    "# Create Spark Streaming Context with batch interval of 5 seconds\n",
    "ssc = StreamingContext(conf, 5)"
   ]
  },
  {
   "cell_type": "code",
   "execution_count": null,
   "id": "6e1a6e80",
   "metadata": {},
   "outputs": [],
   "source": [
    "# Define Kafka parameters\n",
    "kafkaParams = {\"metadata.broker.list\": \"localhost:9092\"}"
   ]
  },
  {
   "cell_type": "code",
   "execution_count": null,
   "id": "217e6727",
   "metadata": {},
   "outputs": [],
   "source": [
    "# Create Kafka stream with Spark Streaming context\n",
    "kafkaStream = KafkaUtils.createDirectStream(ssc, [topic_name], kafkaParams)\n",
    "\n",
    "# Parse the incoming data (in JSON format)\n",
    "parsedStream = kafkaStream.map(lambda x: json.loads(x[1]))\n",
    "\n",
    "# Create a Spark Session object\n",
    "spark = SparkSession.builder.appName(\"KafkaStreamingToDF\").getOrCreate()\n",
    "\n",
    "# Define the schema for the DataFrame\n",
    "schema = spark.read.json(parsedStream.map(lambda r: json.dumps(r))).schema\n",
    "\n",
    "# Convert the parsedStream to DataFrame\n",
    "streamDF = parsedStream.map(lambda r: json.dumps(r)).foreachRDD(lambda rdd: spark.read.schema(schema).json(rdd)).cache()\n",
    "\n",
    "# Print the DataFrame schema\n",
    "streamDF.printSchema()\n",
    "\n",
    "# Start the streaming context\n",
    "ssc.start()\n",
    "\n",
    "# Wait for the streaming to finish\n",
    "ssc.awaitTermination()\n"
   ]
  }
 ],
 "metadata": {
  "kernelspec": {
   "display_name": "Python 3 (ipykernel)",
   "language": "python",
   "name": "python3"
  },
  "language_info": {
   "codemirror_mode": {
    "name": "ipython",
    "version": 3
   },
   "file_extension": ".py",
   "mimetype": "text/x-python",
   "name": "python",
   "nbconvert_exporter": "python",
   "pygments_lexer": "ipython3",
   "version": "3.10.9"
  }
 },
 "nbformat": 4,
 "nbformat_minor": 5
}
