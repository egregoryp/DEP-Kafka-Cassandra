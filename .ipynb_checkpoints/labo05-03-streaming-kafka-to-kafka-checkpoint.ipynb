{
 "cells": [
  {
   "cell_type": "code",
   "execution_count": 1,
   "id": "2539c851",
   "metadata": {},
   "outputs": [],
   "source": [
    "from pyspark.sql.functions import from_json, col, expr\n",
    "from pyspark.sql.types import StructType, StructField, StringType, LongType, DoubleType, IntegerType, ArrayType"
   ]
  },
  {
   "cell_type": "code",
   "execution_count": 2,
   "id": "87583be5",
   "metadata": {},
   "outputs": [],
   "source": [
    "spark = SparkSession \\\n",
    "        .builder \\\n",
    "        .appName(\"File Streaming Demo\") \\\n",
    "        .master(\"local[3]\") \\\n",
    "        .config(\"spark.streaming.stopGracefullyOnShutdown\", \"true\") \\\n",
    "        .getOrCreate()"
   ]
  },
  {
   "cell_type": "code",
   "execution_count": 3,
   "id": "44f927b9",
   "metadata": {},
   "outputs": [],
   "source": [
    "schema = StructType([\n",
    "        StructField(\"InvoiceNumber\", StringType()),\n",
    "        StructField(\"CreatedTime\", LongType()),\n",
    "        StructField(\"StoreID\", StringType()),\n",
    "        StructField(\"PosID\", StringType()),\n",
    "        StructField(\"CashierID\", StringType()),\n",
    "        StructField(\"CustomerType\", StringType()),\n",
    "        StructField(\"CustomerCardNo\", StringType()),\n",
    "        StructField(\"TotalAmount\", DoubleType()),\n",
    "        StructField(\"NumberOfItems\", IntegerType()),\n",
    "        StructField(\"PaymentMethod\", StringType()),\n",
    "        StructField(\"CGST\", DoubleType()),\n",
    "        StructField(\"SGST\", DoubleType()),\n",
    "        StructField(\"CESS\", DoubleType()),\n",
    "        StructField(\"DeliveryType\", StringType()),\n",
    "        StructField(\"DeliveryAddress\", StructType([\n",
    "            StructField(\"AddressLine\", StringType()),\n",
    "            StructField(\"City\", StringType()),\n",
    "            StructField(\"State\", StringType()),\n",
    "            StructField(\"PinCode\", StringType()),\n",
    "            StructField(\"ContactNumber\", StringType())\n",
    "        ])),\n",
    "        StructField(\"InvoiceLineItems\", ArrayType(StructType([\n",
    "            StructField(\"ItemCode\", StringType()),\n",
    "            StructField(\"ItemDescription\", StringType()),\n",
    "            StructField(\"ItemPrice\", DoubleType()),\n",
    "            StructField(\"ItemQty\", IntegerType()),\n",
    "            StructField(\"TotalValue\", DoubleType())\n",
    "        ]))),\n",
    "    ])"
   ]
  },
  {
   "cell_type": "code",
   "execution_count": null,
   "id": "6d7a7a2c",
   "metadata": {},
   "outputs": [],
   "source": [
    "kafka_df = spark.readStream \\\n",
    "        .format(\"kafka\") \\\n",
    "        .option(\"kafka.bootstrap.servers\", \"localhost:9092\") \\\n",
    "        .option(\"subscribe\", \"invoices\") \\\n",
    "        .option(\"startingOffsets\", \"earliest\") \\\n",
    "        .load()"
   ]
  },
  {
   "cell_type": "code",
   "execution_count": null,
   "id": "b84501e8",
   "metadata": {},
   "outputs": [],
   "source": [
    "value_df = kafka_df.select(from_json(col(\"value\").cast(\"string\"), schema).alias(\"value\"))"
   ]
  },
  {
   "cell_type": "code",
   "execution_count": null,
   "id": "db4ab98e",
   "metadata": {},
   "outputs": [],
   "source": [
    "notification_df = value_df.select(\"value.InvoiceNumber\", \"value.CustomerCardNo\", \"value.TotalAmount\") \\\n",
    "        .withColumn(\"EarnedLoyaltyPoints\", expr(\"TotalAmount * 0.2\"))"
   ]
  },
  {
   "cell_type": "code",
   "execution_count": null,
   "id": "8f897f8e",
   "metadata": {},
   "outputs": [],
   "source": [
    "notification_df.printSchema()"
   ]
  },
  {
   "cell_type": "code",
   "execution_count": null,
   "id": "901f9388",
   "metadata": {},
   "outputs": [],
   "source": [
    "kafka_target_df = notification_df.selectExpr(\"InvoiceNumber as key\",\n",
    "                                                 \"\"\"to_json(named_struct(\n",
    "                                                 'CustomerCardNo', CustomerCardNo,\n",
    "                                                 'TotalAmount', TotalAmount,\n",
    "                                                 'EarnedLoyaltyPoints', TotalAmount * 0.2)) as value\"\"\")"
   ]
  },
  {
   "cell_type": "code",
   "execution_count": null,
   "id": "7699af49",
   "metadata": {},
   "outputs": [],
   "source": [
    "kafka_target_df.printSchema()"
   ]
  },
  {
   "cell_type": "code",
   "execution_count": null,
   "id": "6d4ad776",
   "metadata": {},
   "outputs": [],
   "source": [
    "notification_writer_query = kafka_target_df.writeStream \\\n",
    "        .format(\"console\") \\\n",
    "        .outputMode(\"append\") \\\n",
    "        .option(\"truncate\", \"false\") \\\n",
    "        .option(\"checkpointLocation\", \"./checkpoints/checkpoint-stream-kafka-to-kafka/\") \\\n",
    "        .start()\n",
    "notification_writer_query.awaitTermination()"
   ]
  },
  {
   "cell_type": "code",
   "execution_count": null,
   "id": "def01ea2",
   "metadata": {},
   "outputs": [],
   "source": [
    "notification_writer_query = kafka_target_df \\\n",
    "        .writeStream \\\n",
    "        .queryName(\"Notification Writer\") \\\n",
    "        .format(\"kafka\") \\\n",
    "        .option(\"kafka.bootstrap.servers\", \"localhost:9092\") \\\n",
    "        .option(\"topic\", \"notifications\") \\\n",
    "        .outputMode(\"append\") \\\n",
    "        .option(\"checkpointLocation\", \"./checkpoints/checkpoint-stream-kafka-to-kafka2/\") \\\n",
    "        .start()"
   ]
  },
  {
   "cell_type": "code",
   "execution_count": null,
   "id": "27b4d936",
   "metadata": {},
   "outputs": [],
   "source": [
    "notification_writer_query.awaitTermination()"
   ]
  }
 ],
 "metadata": {
  "kernelspec": {
   "display_name": "Python 3 (ipykernel)",
   "language": "python",
   "name": "python3"
  },
  "language_info": {
   "codemirror_mode": {
    "name": "ipython",
    "version": 3
   },
   "file_extension": ".py",
   "mimetype": "text/x-python",
   "name": "python",
   "nbconvert_exporter": "python",
   "pygments_lexer": "ipython3",
   "version": "3.10.9"
  }
 },
 "nbformat": 4,
 "nbformat_minor": 5
}
