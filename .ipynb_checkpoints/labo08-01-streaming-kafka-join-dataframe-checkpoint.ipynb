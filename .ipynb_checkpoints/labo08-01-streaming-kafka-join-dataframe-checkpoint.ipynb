{
 "cells": [
  {
   "cell_type": "code",
   "execution_count": 1,
   "id": "3add7813",
   "metadata": {},
   "outputs": [],
   "source": [
    "from pyspark.sql.functions import from_json, col, to_timestamp\n",
    "from pyspark.sql.types import StructType, StructField, StringType\n",
    "from pyspark.sql import SparkSession"
   ]
  },
  {
   "cell_type": "code",
   "execution_count": 2,
   "id": "baa665c4",
   "metadata": {},
   "outputs": [],
   "source": [
    "def write_to_cassandra(target_df, batch_id):\n",
    "    target_df.write \\\n",
    "        .format(\"org.apache.spark.sql.cassandra\") \\\n",
    "        .option(\"keyspace\", \"spark_db\") \\\n",
    "        .option(\"table\", \"users\") \\\n",
    "        .mode(\"append\") \\\n",
    "        .save()\n",
    "    target_df.show()"
   ]
  },
  {
   "cell_type": "code",
   "execution_count": 3,
   "id": "5bb8b019",
   "metadata": {},
   "outputs": [],
   "source": [
    "spark = SparkSession \\\n",
    "        .builder \\\n",
    "        .master(\"local[3]\") \\\n",
    "        .appName(\"Stream Table Join Demo\") \\\n",
    "        .config(\"spark.streaming.stopGracefullyOnShutdown\", \"true\") \\\n",
    "        .config(\"spark.sql.shuffle.partitions\", 2) \\\n",
    "        .config(\"spark.cassandra.connection.host\", \"localhost\") \\\n",
    "        .config(\"spark.cassandra.connection.port\", \"9042\") \\\n",
    "        .config(\"spark.sql.extensions\", \"com.datastax.spark.connector.CassandraSparkExtensions\") \\\n",
    "        .config(\"spark.sql.catalog.lh\", \"com.datastax.spark.connector.datasource.CassandraCatalog\") \\\n",
    "        .getOrCreate()"
   ]
  },
  {
   "cell_type": "code",
   "execution_count": 4,
   "id": "d4ae92e7",
   "metadata": {},
   "outputs": [],
   "source": [
    "login_schema = StructType([\n",
    "        StructField(\"created_time\", StringType()),\n",
    "        StructField(\"login_id\", StringType())\n",
    "    ])"
   ]
  },
  {
   "cell_type": "code",
   "execution_count": 5,
   "id": "1da74b1e",
   "metadata": {},
   "outputs": [],
   "source": [
    "kafka_source_df = spark \\\n",
    "        .readStream \\\n",
    "        .format(\"kafka\") \\\n",
    "        .option(\"kafka.bootstrap.servers\", \"localhost:9092\") \\\n",
    "        .option(\"subscribe\", \"logins\") \\\n",
    "        .option(\"startingOffsets\", \"earliest\") \\\n",
    "        .load()"
   ]
  },
  {
   "cell_type": "code",
   "execution_count": 6,
   "id": "5f053f38",
   "metadata": {},
   "outputs": [],
   "source": [
    "value_df = kafka_source_df.select(from_json(col(\"value\").cast(\"string\"), login_schema).alias(\"value\"))"
   ]
  },
  {
   "cell_type": "code",
   "execution_count": 7,
   "id": "09464b50",
   "metadata": {},
   "outputs": [],
   "source": [
    "login_df = value_df.select(\"value.*\") \\\n",
    "        .withColumn(\"created_time\", to_timestamp(col(\"created_time\"), \"yyyy-MM-dd HH:mm:ss\"))"
   ]
  },
  {
   "cell_type": "code",
   "execution_count": 8,
   "id": "b5a231a8",
   "metadata": {},
   "outputs": [],
   "source": [
    "user_df = spark.read \\\n",
    "        .format(\"org.apache.spark.sql.cassandra\") \\\n",
    "        .option(\"keyspace\", \"spark_db\") \\\n",
    "        .option(\"table\", \"users\") \\\n",
    "        .load()"
   ]
  },
  {
   "cell_type": "code",
   "execution_count": 9,
   "id": "545db5fe",
   "metadata": {},
   "outputs": [],
   "source": [
    "join_expr = login_df.login_id == user_df.login_id\n",
    "join_type = \"inner\""
   ]
  },
  {
   "cell_type": "code",
   "execution_count": 10,
   "id": "18c2f487",
   "metadata": {},
   "outputs": [],
   "source": [
    "joined_df = login_df.join(user_df, join_expr, join_type) \\\n",
    "        .drop(login_df.login_id)"
   ]
  },
  {
   "cell_type": "code",
   "execution_count": 11,
   "id": "60222bb6",
   "metadata": {},
   "outputs": [],
   "source": [
    "output_df = joined_df.select(col(\"login_id\"), col(\"user_name\"),\n",
    "                                 col(\"created_time\").alias(\"last_login\"))"
   ]
  },
  {
   "cell_type": "code",
   "execution_count": 12,
   "id": "86d4389f",
   "metadata": {},
   "outputs": [],
   "source": [
    "output_query = output_df.writeStream \\\n",
    "        .foreachBatch(write_to_cassandra) \\\n",
    "        .outputMode(\"update\") \\\n",
    "        .option(\"checkpointLocation\", \"./chekpoint/join-cassandra\") \\\n",
    "        .trigger(processingTime=\"1 minute\") \\\n",
    "        .start()"
   ]
  },
  {
   "cell_type": "code",
   "execution_count": null,
   "id": "eed1fe2c",
   "metadata": {},
   "outputs": [
    {
     "name": "stdout",
     "output_type": "stream",
     "text": [
      "+--------+---------+----------+\n",
      "|login_id|user_name|last_login|\n",
      "+--------+---------+----------+\n",
      "+--------+---------+----------+\n",
      "\n"
     ]
    }
   ],
   "source": [
    "output_query.awaitTermination()"
   ]
  },
  {
   "cell_type": "code",
   "execution_count": null,
   "id": "0e0c7c9a",
   "metadata": {},
   "outputs": [],
   "source": []
  }
 ],
 "metadata": {
  "kernelspec": {
   "display_name": "Python 3 (ipykernel)",
   "language": "python",
   "name": "python3"
  },
  "language_info": {
   "codemirror_mode": {
    "name": "ipython",
    "version": 3
   },
   "file_extension": ".py",
   "mimetype": "text/x-python",
   "name": "python",
   "nbconvert_exporter": "python",
   "pygments_lexer": "ipython3",
   "version": "3.10.9"
  }
 },
 "nbformat": 4,
 "nbformat_minor": 5
}
