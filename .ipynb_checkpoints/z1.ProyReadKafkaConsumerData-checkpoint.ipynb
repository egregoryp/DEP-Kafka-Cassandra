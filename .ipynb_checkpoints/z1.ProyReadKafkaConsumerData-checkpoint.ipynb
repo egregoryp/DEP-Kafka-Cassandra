{
 "cells": [
  {
   "cell_type": "code",
   "execution_count": 14,
   "id": "2539c851",
   "metadata": {},
   "outputs": [],
   "source": [
    "from pyspark.sql.functions import from_json, col, expr\n",
    "from pyspark.sql.types import StructType, StructField, StringType, LongType, DoubleType, IntegerType, ArrayType"
   ]
  },
  {
   "cell_type": "code",
   "execution_count": 15,
   "id": "87583be5",
   "metadata": {},
   "outputs": [],
   "source": [
    "spark = SparkSession \\\n",
    "        .builder \\\n",
    "        .appName(\"File Streaming Demo\") \\\n",
    "        .master(\"local[3]\") \\\n",
    "        .config(\"spark.streaming.stopGracefullyOnShutdown\", \"true\") \\\n",
    "        .getOrCreate()"
   ]
  },
  {
   "cell_type": "code",
   "execution_count": 16,
   "id": "44f927b9",
   "metadata": {},
   "outputs": [],
   "source": [
    "schema = StructType([\n",
    "        StructField(\"id\", StringType()),\n",
    "        StructField(\"name\", StringType()),\n",
    "        StructField(\"age\", IntegerType()),\n",
    "        StructField(\"address\", StringType()),\n",
    "        StructField(\"email\", StringType()),\n",
    "        StructField(\"CreatedTime\", LongType()),        \n",
    "        ])"
   ]
  },
  {
   "cell_type": "code",
   "execution_count": 17,
   "id": "6d7a7a2c",
   "metadata": {},
   "outputs": [],
   "source": [
    "kafka_df = spark.readStream \\\n",
    "        .format(\"kafka\") \\\n",
    "        .option(\"kafka.bootstrap.servers\", \"localhost:9092\") \\\n",
    "        .option(\"subscribe\", \"customer-data\") \\\n",
    "        .option(\"startingOffsets\", \"earliest\") \\\n",
    "        .option(\"failOnDataLoss\", False)\\\n",
    "        .load()"
   ]
  },
  {
   "cell_type": "code",
   "execution_count": 18,
   "id": "b84501e8",
   "metadata": {},
   "outputs": [],
   "source": [
    "value_df = kafka_df.select(from_json(col(\"value\").cast(\"string\"), schema).alias(\"value\"))"
   ]
  },
  {
   "cell_type": "code",
   "execution_count": 19,
   "id": "c259af4e",
   "metadata": {},
   "outputs": [
    {
     "name": "stdout",
     "output_type": "stream",
     "text": [
      "root\n",
      " |-- value: struct (nullable = true)\n",
      " |    |-- id: string (nullable = true)\n",
      " |    |-- name: string (nullable = true)\n",
      " |    |-- age: integer (nullable = true)\n",
      " |    |-- address: string (nullable = true)\n",
      " |    |-- email: string (nullable = true)\n",
      " |    |-- CreatedTime: long (nullable = true)\n",
      "\n"
     ]
    }
   ],
   "source": [
    "value_df.printSchema()"
   ]
  },
  {
   "cell_type": "code",
   "execution_count": 20,
   "id": "db4ab98e",
   "metadata": {},
   "outputs": [],
   "source": [
    "notification_df = value_df.select(\"value.id\", \"value.name\", \"value.age\") \\\n",
    "        .withColumn(\"BirthYear\", expr(\"2023 - age\"))"
   ]
  },
  {
   "cell_type": "code",
   "execution_count": 21,
   "id": "8f897f8e",
   "metadata": {},
   "outputs": [
    {
     "name": "stdout",
     "output_type": "stream",
     "text": [
      "root\n",
      " |-- id: string (nullable = true)\n",
      " |-- name: string (nullable = true)\n",
      " |-- age: integer (nullable = true)\n",
      " |-- BirthYear: integer (nullable = true)\n",
      "\n"
     ]
    }
   ],
   "source": [
    "notification_df.printSchema()"
   ]
  },
  {
   "cell_type": "code",
   "execution_count": 22,
   "id": "901f9388",
   "metadata": {},
   "outputs": [],
   "source": [
    "kafka_target_filtered_df = notification_df.selectExpr(\"id as key\",\n",
    "                                                 \"\"\"to_json(named_struct(\n",
    "                                                 'Name', name,\n",
    "                                                 'Age', age,\n",
    "                                                 'BirthYear', 2023 - age)) as value\"\"\")"
   ]
  },
  {
   "cell_type": "code",
   "execution_count": 23,
   "id": "7699af49",
   "metadata": {},
   "outputs": [],
   "source": [
    "# kafka_target_filtered_df = kafka_target_filtered_df.filter(\"age > 30\")\n",
    "#add csv withlocation to do a join\n",
    "\n",
    " #schema_csv=(StructType().add(\"location_code\",StringType()).add(\"location_region\",StringType()).add(\"location_country\",StringType()))\n",
    "# locations = spark.read.format(\"csv\")\\\n",
    "#     .option(\"header\", True)\\\n",
    "#     .option(\"header\", True)\\\n",
    "#     .schema(schema_csv)\\\n",
    "#     .load(\"locations.csv\").alias(\"locations\")\n",
    "\n",
    "#kafka_target_filtered_joined_df = kafka_target_filtered_df.join(location, kafka_target_filtered_df[\"location_code\"]==locations[\"location_code\"], \"left\")\n",
    "\n",
    "# kafka_target_final_df = kafka_target_filtered_joined_df.groupBy(\"language_region\")\\\n",
    "#     .agg(sum(\"favorite_count\"), count(\"id\"))"
   ]
  },
  {
   "cell_type": "code",
   "execution_count": null,
   "id": "6d4ad776",
   "metadata": {},
   "outputs": [],
   "source": [
    "notification_writer_query = kafka_target_filtered_df.writeStream \\\n",
    "        .format(\"console\") \\\n",
    "        .outputMode(\"append\") \\\n",
    "        .option(\"truncate\", \"false\") \\\n",
    "        .option(\"checkpointLocation\", \"./checkpoints/checkpointTEST/\") \\\n",
    "        .start()\n",
    "\n",
    "notification_writer_query.awaitTermination()"
   ]
  },
  {
   "cell_type": "code",
   "execution_count": null,
   "id": "def01ea2",
   "metadata": {},
   "outputs": [],
   "source": [
    "# notification_writer_query = kafka_target_df \\\n",
    "#         .writeStream \\\n",
    "#         .queryName(\"Notification Writer\") \\\n",
    "#         .format(\"kafka\") \\\n",
    "#         .option(\"kafka.bootstrap.servers\", \"localhost:9092\") \\\n",
    "#         .option(\"topic\", \"notifications\") \\\n",
    "#         .outputMode(\"append\") \\\n",
    "#         .option(\"checkpointLocation\", \"./checkpoints/checkpoint-stream-kafka-to-kafka2/\") \\\n",
    "#         .start()"
   ]
  },
  {
   "cell_type": "code",
   "execution_count": null,
   "id": "27b4d936",
   "metadata": {},
   "outputs": [],
   "source": [
    "# notification_writer_query.awaitTermination()"
   ]
  }
 ],
 "metadata": {
  "kernelspec": {
   "display_name": "Python 3 (ipykernel)",
   "language": "python",
   "name": "python3"
  },
  "language_info": {
   "codemirror_mode": {
    "name": "ipython",
    "version": 3
   },
   "file_extension": ".py",
   "mimetype": "text/x-python",
   "name": "python",
   "nbconvert_exporter": "python",
   "pygments_lexer": "ipython3",
   "version": "3.10.9"
  }
 },
 "nbformat": 4,
 "nbformat_minor": 5
}
