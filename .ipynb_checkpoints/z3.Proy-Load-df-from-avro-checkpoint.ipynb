{
 "cells": [
  {
   "cell_type": "code",
   "execution_count": 1,
   "id": "25b0707b",
   "metadata": {},
   "outputs": [],
   "source": [
    "from pyspark.sql.avro.functions import from_avro\n",
    "from pyspark.sql.functions import expr, col, struct, to_json, sum"
   ]
  },
  {
   "cell_type": "code",
   "execution_count": 2,
   "id": "76cd998e",
   "metadata": {},
   "outputs": [],
   "source": [
    "spark = SparkSession \\\n",
    "        .builder \\\n",
    "        .appName(\"Multi Query Demo\") \\\n",
    "        .master(\"local[3]\") \\\n",
    "        .config(\"spark.streaming.stopGracefullyOnShutdown\", \"true\") \\\n",
    "        .getOrCreate()"
   ]
  },
  {
   "cell_type": "code",
   "execution_count": 3,
   "id": "0d44fc25",
   "metadata": {},
   "outputs": [],
   "source": [
    "kafka_source_df = spark \\\n",
    "        .readStream \\\n",
    "        .format(\"kafka\") \\\n",
    "        .option(\"kafka.bootstrap.servers\", \"localhost:9092\") \\\n",
    "        .option(\"subscribe\", \"customer-data-out\") \\\n",
    "        .option(\"startingOffsets\", \"earliest\") \\\n",
    "        .load()"
   ]
  },
  {
   "cell_type": "code",
   "execution_count": 4,
   "id": "bf00c8fe",
   "metadata": {},
   "outputs": [],
   "source": [
    "avroSchema = open('./schema/customer-data', mode='r').read()"
   ]
  },
  {
   "cell_type": "code",
   "execution_count": 5,
   "id": "d3d42942",
   "metadata": {},
   "outputs": [],
   "source": [
    "value_df = kafka_source_df.select(from_avro(col(\"value\"), avroSchema).alias(\"value\"))"
   ]
  },
  {
   "cell_type": "code",
   "execution_count": 6,
   "id": "efc6f5c2",
   "metadata": {},
   "outputs": [
    {
     "name": "stdout",
     "output_type": "stream",
     "text": [
      "root\n",
      " |-- value: struct (nullable = true)\n",
      " |    |-- id: string (nullable = true)\n",
      " |    |-- name: string (nullable = true)\n",
      " |    |-- age: integer (nullable = true)\n",
      " |    |-- address: string (nullable = true)\n",
      " |    |-- email: string (nullable = true)\n",
      " |    |-- CreatedTime: long (nullable = true)\n",
      "\n"
     ]
    }
   ],
   "source": [
    "value_df.printSchema()"
   ]
  },
  {
   "cell_type": "code",
   "execution_count": 9,
   "id": "7fc3a35e",
   "metadata": {},
   "outputs": [],
   "source": [
    "rewards_df = value_df.filter(\"value.age >= '34'\") \\\n",
    "        .groupBy(\"value.address\").count().alias(\"CantidadMayorA34\")"
   ]
  },
  {
   "cell_type": "code",
   "execution_count": 10,
   "id": "ed548470",
   "metadata": {},
   "outputs": [
    {
     "name": "stdout",
     "output_type": "stream",
     "text": [
      "root\n",
      " |-- address: string (nullable = true)\n",
      " |-- count: long (nullable = false)\n",
      "\n"
     ]
    }
   ],
   "source": [
    "rewards_df.printSchema()"
   ]
  },
  {
   "cell_type": "code",
   "execution_count": 11,
   "id": "b1645a1b",
   "metadata": {},
   "outputs": [],
   "source": [
    "kafka_target_df = rewards_df.select(expr(\"address as key\"),\n",
    "                                        to_json(struct(\"count\")).alias(\"value\"))"
   ]
  },
  {
   "cell_type": "code",
   "execution_count": 12,
   "id": "77dc09a0",
   "metadata": {},
   "outputs": [
    {
     "name": "stdout",
     "output_type": "stream",
     "text": [
      "root\n",
      " |-- key: string (nullable = true)\n",
      " |-- value: string (nullable = true)\n",
      "\n"
     ]
    }
   ],
   "source": [
    "kafka_target_df.printSchema()"
   ]
  },
  {
   "cell_type": "code",
   "execution_count": 11,
   "id": "26087fc4",
   "metadata": {},
   "outputs": [],
   "source": [
    "#Operacion, las operaciones anteriores son lazy\n",
    "#ReadStream es diferente a las opearciones batch con funciones load() y no puedes usar el head() o show()\n",
    "rewards_writer_query = kafka_target_df \\\n",
    "        .writeStream \\\n",
    "        .queryName(\"Rewards Writer\") \\\n",
    "        .format(\"kafka\") \\\n",
    "        .option(\"kafka.bootstrap.servers\", \"localhost:9092\") \\\n",
    "        .option(\"topic\", \"customer-data-rewards\") \\\n",
    "        .outputMode(\"update\") \\\n",
    "        .option(\"checkpointLocation\", \"./checkpoints/customer-data-rewards\") \\\n",
    "        .start()"
   ]
  },
  {
   "cell_type": "code",
   "execution_count": null,
   "id": "d582778a",
   "metadata": {},
   "outputs": [],
   "source": [
    "rewards_writer_query.awaitTermination()"
   ]
  }
 ],
 "metadata": {
  "kernelspec": {
   "display_name": "Python 3 (ipykernel)",
   "language": "python",
   "name": "python3"
  },
  "language_info": {
   "codemirror_mode": {
    "name": "ipython",
    "version": 3
   },
   "file_extension": ".py",
   "mimetype": "text/x-python",
   "name": "python",
   "nbconvert_exporter": "python",
   "pygments_lexer": "ipython3",
   "version": "3.10.9"
  }
 },
 "nbformat": 4,
 "nbformat_minor": 5
}
