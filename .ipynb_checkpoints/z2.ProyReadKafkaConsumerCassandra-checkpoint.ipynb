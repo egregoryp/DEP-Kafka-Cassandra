{
 "cells": [
  {
   "cell_type": "code",
   "execution_count": 1,
   "id": "3add7813",
   "metadata": {},
   "outputs": [],
   "source": [
    "from pyspark.sql.functions import from_json, col, to_timestamp\n",
    "from pyspark.sql.types import StructType, StructField, StringType, IntegerType\n",
    "from pyspark.sql import SparkSession"
   ]
  },
  {
   "cell_type": "code",
   "execution_count": 2,
   "id": "baa665c4",
   "metadata": {},
   "outputs": [],
   "source": [
    "def write_to_cassandra(target_df, batch_id):\n",
    "    target_df.write \\\n",
    "        .format(\"org.apache.spark.sql.cassandra\") \\\n",
    "        .option(\"keyspace\", \"spark_db\") \\\n",
    "        .option(\"table\", \"customer_search\") \\\n",
    "        .mode(\"append\") \\\n",
    "        .save()\n",
    "    target_df.show()"
   ]
  },
  {
   "cell_type": "code",
   "execution_count": 3,
   "id": "5bb8b019",
   "metadata": {},
   "outputs": [],
   "source": [
    "spark = SparkSession \\\n",
    "        .builder \\\n",
    "        .master(\"local[3]\") \\\n",
    "        .appName(\"Stream Table Join Demo\") \\\n",
    "        .config(\"spark.streaming.stopGracefullyOnShutdown\", \"true\") \\\n",
    "        .config(\"spark.sql.shuffle.partitions\", 2) \\\n",
    "        .config(\"spark.cassandra.connection.host\", \"localhost\") \\\n",
    "        .config(\"spark.cassandra.connection.port\", \"9042\") \\\n",
    "        .config(\"spark.sql.extensions\", \"com.datastax.spark.connector.CassandraSparkExtensions\") \\\n",
    "        .config(\"spark.sql.catalog.lh\", \"com.datastax.spark.connector.datasource.CassandraCatalog\") \\\n",
    "        .getOrCreate()"
   ]
  },
  {
   "cell_type": "code",
   "execution_count": 4,
   "id": "d4ae92e7",
   "metadata": {},
   "outputs": [],
   "source": [
    "search_schema = StructType([\n",
    "        StructField(\"id\", StringType()),\n",
    "        StructField(\"product_searched\", StringType()),\n",
    "        StructField(\"customer_id\", StringType()),\n",
    "        StructField(\"location_id\", StringType()),\n",
    "        StructField(\"CreateDate\", StringType())\n",
    "    ])"
   ]
  },
  {
   "cell_type": "code",
   "execution_count": 5,
   "id": "1da74b1e",
   "metadata": {},
   "outputs": [],
   "source": [
    "kafka_source_df = spark \\\n",
    "        .readStream \\\n",
    "        .format(\"kafka\") \\\n",
    "        .option(\"kafka.bootstrap.servers\", \"localhost:9092\") \\\n",
    "        .option(\"subscribe\", \"product-search\") \\\n",
    "        .option(\"startingOffsets\", \"earliest\") \\\n",
    "        .option(\"failOnDataLoss\", False) \\\n",
    "        .load()"
   ]
  },
  {
   "cell_type": "code",
   "execution_count": 6,
   "id": "5f053f38",
   "metadata": {},
   "outputs": [],
   "source": [
    "value_df = kafka_source_df.select(from_json(col(\"value\").cast(\"string\"), search_schema).alias(\"value\"))"
   ]
  },
  {
   "cell_type": "code",
   "execution_count": 7,
   "id": "5b6b2e9d",
   "metadata": {},
   "outputs": [],
   "source": [
    "search_df = value_df.select(\"value.*\") \\\n",
    "        .withColumn(\"CreateDate\", to_timestamp(col(\"CreateDate\"), \"yyyy-MM-dd HH:mm:ss\"))"
   ]
  },
  {
   "cell_type": "code",
   "execution_count": 8,
   "id": "d2bc8cdd",
   "metadata": {},
   "outputs": [
    {
     "name": "stdout",
     "output_type": "stream",
     "text": [
      "root\n",
      " |-- id: string (nullable = true)\n",
      " |-- product_searched: string (nullable = true)\n",
      " |-- customer_id: string (nullable = true)\n",
      " |-- location_id: string (nullable = true)\n",
      " |-- CreateDate: timestamp (nullable = true)\n",
      "\n"
     ]
    }
   ],
   "source": [
    "search_df.printSchema()"
   ]
  },
  {
   "cell_type": "code",
   "execution_count": 9,
   "id": "b72cf8f3",
   "metadata": {},
   "outputs": [],
   "source": [
    "#add csv withlocation to do a join\n",
    "\n",
    "schema_csv = StructType([\n",
    "        StructField(\"location_id\", StringType()),\n",
    "        StructField(\"name\", StringType()),    \n",
    "        StructField(\"country_id\", StringType()),\n",
    "        StructField(\"country_code\", StringType()),\n",
    "        StructField(\"country_name\", StringType()),\n",
    "        StructField(\"state_code\", StringType()),\n",
    "        StructField(\"type\", StringType()),\n",
    "        StructField(\"latitude\", StringType()),\n",
    "        StructField(\"longitude\", StringType())    \n",
    "    ])"
   ]
  },
  {
   "cell_type": "code",
   "execution_count": 10,
   "id": "6ae8ef0c",
   "metadata": {},
   "outputs": [],
   "source": [
    "#schema_csv=(StructType().add(\"location_code\",StringType()).add(\"location_region\",StringType()).add(\"location_country\",StringType()))\n",
    "locations = spark.read.format(\"csv\")\\\n",
    "     .option(\"header\", True)\\\n",
    "     .schema(schema_csv)\\\n",
    "     .load(\"zLocations.csv\").alias(\"locations\")"
   ]
  },
  {
   "cell_type": "code",
   "execution_count": 11,
   "id": "13892dc2",
   "metadata": {},
   "outputs": [],
   "source": [
    "search_locations_df = search_df.join(locations, search_df[\"location_id\"]==locations[\"location_id\"], \"left\")"
   ]
  },
  {
   "cell_type": "code",
   "execution_count": 12,
   "id": "b5a231a8",
   "metadata": {},
   "outputs": [],
   "source": [
    "customer_df = spark.read \\\n",
    "        .format(\"org.apache.spark.sql.cassandra\") \\\n",
    "        .option(\"keyspace\", \"spark_db\") \\\n",
    "        .option(\"table\", \"customer\") \\\n",
    "        .load()"
   ]
  },
  {
   "cell_type": "code",
   "execution_count": 13,
   "id": "545db5fe",
   "metadata": {},
   "outputs": [],
   "source": [
    "join_expr = customer_df.customer_id == search_locations_df.customer_id\n",
    "join_type = \"inner\""
   ]
  },
  {
   "cell_type": "code",
   "execution_count": 14,
   "id": "18c2f487",
   "metadata": {},
   "outputs": [],
   "source": [
    "joined_df = customer_df.join(search_locations_df, join_expr, join_type) \\\n",
    "        .drop(customer_df.customer_id)"
   ]
  },
  {
   "cell_type": "code",
   "execution_count": 15,
   "id": "0c61a5bb",
   "metadata": {},
   "outputs": [
    {
     "name": "stdout",
     "output_type": "stream",
     "text": [
      "root\n",
      " |-- address: string (nullable = true)\n",
      " |-- age: string (nullable = true)\n",
      " |-- create_date: timestamp (nullable = true)\n",
      " |-- email: string (nullable = true)\n",
      " |-- user_name: string (nullable = true)\n",
      " |-- id: string (nullable = true)\n",
      " |-- product_searched: string (nullable = true)\n",
      " |-- customer_id: string (nullable = true)\n",
      " |-- location_id: string (nullable = true)\n",
      " |-- CreateDate: timestamp (nullable = true)\n",
      " |-- location_id: string (nullable = true)\n",
      " |-- name: string (nullable = true)\n",
      " |-- country_id: string (nullable = true)\n",
      " |-- country_code: string (nullable = true)\n",
      " |-- country_name: string (nullable = true)\n",
      " |-- state_code: string (nullable = true)\n",
      " |-- type: string (nullable = true)\n",
      " |-- latitude: string (nullable = true)\n",
      " |-- longitude: string (nullable = true)\n",
      "\n"
     ]
    }
   ],
   "source": [
    "joined_df.printSchema()"
   ]
  },
  {
   "cell_type": "code",
   "execution_count": 16,
   "id": "60222bb6",
   "metadata": {},
   "outputs": [],
   "source": [
    "output_df = joined_df.select(col(\"id\"), col(\"customer_id\"), col(\"user_name\").alias(\"customer_name\"), col(\"product_searched\"), \n",
    "                             col(\"CreateDate\").alias(\"search_date\"), col(\"country_name\"),col(\"name\").alias(\"state\"))\n",
    "#                             .withColumn(\"idNum\", col(\"customer_id\").cast(IntegerType())) \\\n",
    "#                             .withColumn(\"id\",    col(\"id\").cast(IntegerType()))"
   ]
  },
  {
   "cell_type": "code",
   "execution_count": 19,
   "id": "acc4a61b",
   "metadata": {},
   "outputs": [],
   "source": [
    "#to view the data in the console\n",
    "notification_writer_query = output_df.writeStream \\\n",
    "        .format(\"console\") \\\n",
    "        .outputMode(\"append\") \\\n",
    "        .option(\"truncate\", \"false\") \\\n",
    "        .option(\"checkpointLocation\", \"./checkpoints/cassandra-proj/\") \\\n",
    "        .start()\n",
    "\n",
    "# notification_writer_query.awaitTermination()"
   ]
  },
  {
   "cell_type": "code",
   "execution_count": null,
   "id": "20cca931",
   "metadata": {},
   "outputs": [],
   "source": [
    "#Aggregations Val\n",
    "\n",
    "# agg_output_df = output_df.groupBy(\"country_name\", \"product_searched\")\\\n",
    "#       .agg(count(\"id\")).alias(\"search_qty\")\n",
    "\n",
    "# agg_search_locations_df = output_df.groupBy(\"name\")\\\n",
    "#      .agg(sum(\"idNum\"), count(\"id\"))"
   ]
  },
  {
   "cell_type": "code",
   "execution_count": 20,
   "id": "86d4389f",
   "metadata": {},
   "outputs": [
    {
     "name": "stdout",
     "output_type": "stream",
     "text": [
      "+---+-----------+-------------+--------------------+-------------------+------------+--------------------+\n",
      "| id|customer_id|customer_name|    product_searched|        search_date|country_name|               state|\n",
      "+---+-----------+-------------+--------------------+-------------------+------------+--------------------+\n",
      "| 32|          1|       Johnny|            Creatine|2023-04-27 21:27:03|   Argentina|    Tierra del Fuego|\n",
      "| 63|          1|       Johnny|Samsung Galaxy s2...|2023-04-27 23:28:23|     Armenia|             Yerevan|\n",
      "| 64|          1|       Johnny|Gildan Mens Assor...|2023-04-27 23:29:23|    Honduras|Ocotepeque Depart...|\n",
      "| 65|          1|       Johnny|         Bed Pillows|2023-04-27 23:41:18|      Malawi|     Northern Region|\n",
      "| 66|          1|       Johnny|            Creatine|2023-04-27 23:41:48|        Iraq|              Diyala|\n",
      "| 17|         12|       Jowell|         Bed Pillows|2023-04-27 21:12:03|Burkina Faso|             Boulgou|\n",
      "| 25|         12|       Jowell|            Creatine|2023-04-27 21:20:03|  Cape Verde|           Boa Vista|\n",
      "| 29|         12|       Jowell|                Roku|2023-04-27 21:24:03|    Slovenia|Velike Lašče Muni...|\n",
      "| 41|         12|       Jowell|         Water Shoes|2023-04-27 21:36:04|    Zimbabwe|   Bulawayo Province|\n",
      "| 42|         12|       Jowell|  Asus Gaming Laptop|2023-04-27 21:37:04|      Russia|              Moscow|\n",
      "| 48|         12|       Jowell|            Creatine|2023-04-27 21:43:04|    Slovenia|Sveti Jurij ob Šč...|\n",
      "| 12|         17|       Marcia|Samsung Galaxy s2...|2023-04-27 21:07:03|      Guinea|         Labé Region|\n",
      "| 13|         17|       Marcia|                Roku|2023-04-27 21:08:03| South Korea|                Jeju|\n",
      "| 38|         17|       Marcia|     Ninja Air Frier|2023-04-27 21:33:03|Saudi Arabia|          Al Madinah|\n",
      "| 49|         17|       Marcia|                Roku|2023-04-27 21:44:04|     Vanuatu|              Penama|\n",
      "| 23|         20|     JohnEric|           Bed Sheet|2023-04-27 21:18:03|  Costa Rica|Provincia de Cartago|\n",
      "| 24|         20|     JohnEric|         Samsung Tab|2023-04-27 21:19:03|       China|             Guizhou|\n",
      "| 47|         20|     JohnEric|  Asus Gaming Laptop|2023-04-27 21:42:04|       India|              Kerala|\n",
      "| 52|         20|     JohnEric|                Roku|2023-04-27 21:47:04|       China|           Guangdong|\n",
      "| 62|         20|     JohnEric|          Fire Stick|2023-04-27 23:27:23|     Hungary|           Kecskemét|\n",
      "+---+-----------+-------------+--------------------+-------------------+------------+--------------------+\n",
      "only showing top 20 rows\n",
      "\n"
     ]
    }
   ],
   "source": [
    "# output_query = output_df.writeStream \\\n",
    "output_query = output_df.writeStream \\\n",
    "        .foreachBatch(write_to_cassandra) \\\n",
    "        .outputMode(\"update\") \\\n",
    "        .option(\"checkpointLocation\", \"./chekpoint/join-cassandra\") \\\n",
    "        .trigger(processingTime=\"1 minute\") \\\n",
    "        .start()"
   ]
  },
  {
   "cell_type": "code",
   "execution_count": null,
   "id": "eed1fe2c",
   "metadata": {},
   "outputs": [
    {
     "name": "stdout",
     "output_type": "stream",
     "text": [
      "+---+-----------+-------------+------------------+-------------------+--------------+--------------+\n",
      "| id|customer_id|customer_name|  product_searched|        search_date|  country_name|         state|\n",
      "+---+-----------+-------------+------------------+-------------------+--------------+--------------+\n",
      "|  2|         13|        Mario|              Roku|2023-04-27 23:57:18|    Bangladesh|Bhola District|\n",
      "| 68|         15|       Martha|   Ninja Air Frier|2023-04-27 23:49:44|          Iran|        Alborz|\n",
      "|  3|          7|         Emil|Asus Gaming Laptop|2023-04-27 23:57:48|        France|   Deux-Sèvres|\n",
      "|  1|          9|          Jox|              Roku|2023-04-27 23:56:48|United Kingdom|North Ayrshire|\n",
      "+---+-----------+-------------+------------------+-------------------+--------------+--------------+\n",
      "\n",
      "+---+-----------+-------------+----------------+-------------------+--------------------+------------------+\n",
      "| id|customer_id|customer_name|product_searched|        search_date|        country_name|             state|\n",
      "+---+-----------+-------------+----------------+-------------------+--------------------+------------------+\n",
      "|  5|         10|        Emona|       Bed Sheet|2023-04-27 23:58:48|United States Min...|      Baker Island|\n",
      "|  4|         19|    Johnathan|     Samsung Tab|2023-04-27 23:58:18|              France|Meurthe-et-Moselle|\n",
      "+---+-----------+-------------+----------------+-------------------+--------------------+------------------+\n",
      "\n",
      "+---+-----------+-------------+----------------+-------------------+------------+---------------+\n",
      "| id|customer_id|customer_name|product_searched|        search_date|country_name|          state|\n",
      "+---+-----------+-------------+----------------+-------------------+------------+---------------+\n",
      "|  7|         20|     JohnEric|      Air Jordan|2023-04-27 23:59:48|     Algeria|     Tissemsilt|\n",
      "|  6|          2|     Marielys|     Water Shoes|2023-04-27 23:59:18|  Seychelles|Grand'Anse Mahé|\n",
      "+---+-----------+-------------+----------------+-------------------+------------+---------------+\n",
      "\n",
      "+---+-----------+-------------+--------------------+-------------------+------------+--------------------+\n",
      "| id|customer_id|customer_name|    product_searched|        search_date|country_name|               state|\n",
      "+---+-----------+-------------+--------------------+-------------------+------------+--------------------+\n",
      "|  9|         18|       Johvay|  Asus Gaming Laptop|2023-04-28 00:00:48|     Moldova|   Cantemir District|\n",
      "|  8|          9|          Jox|Samsung Galaxy s2...|2023-04-28 00:00:18|    Honduras|Bay Islands Depar...|\n",
      "+---+-----------+-------------+--------------------+-------------------+------------+--------------------+\n",
      "\n",
      "+---+-----------+-------------+--------------------+-------------------+------------+-------------+\n",
      "| id|customer_id|customer_name|    product_searched|        search_date|country_name|        state|\n",
      "+---+-----------+-------------+--------------------+-------------------+------------+-------------+\n",
      "| 11|         10|        Emona|Gildan Mens Assor...|2023-04-28 00:01:48| Philippines|Lanao del Sur|\n",
      "| 10|         19|    Johnathan|  Asus Gaming Laptop|2023-04-28 00:01:18|       India|   Puducherry|\n",
      "+---+-----------+-------------+--------------------+-------------------+------------+-------------+\n",
      "\n",
      "+---+-----------+-------------+----------------+-------------------+------------+---------------+\n",
      "| id|customer_id|customer_name|product_searched|        search_date|country_name|          state|\n",
      "+---+-----------+-------------+----------------+-------------------+------------+---------------+\n",
      "| 12|         20|     JohnEric| Ninja Air Frier|2023-04-28 00:02:18|       Libya|Jabal al Akhdar|\n",
      "| 13|         19|    Johnathan|     Bed Pillows|2023-04-28 00:02:48|      Serbia|       Belgrade|\n",
      "+---+-----------+-------------+----------------+-------------------+------------+---------------+\n",
      "\n"
     ]
    }
   ],
   "source": [
    "output_query.awaitTermination()"
   ]
  }
 ],
 "metadata": {
  "kernelspec": {
   "display_name": "Python 3 (ipykernel)",
   "language": "python",
   "name": "python3"
  },
  "language_info": {
   "codemirror_mode": {
    "name": "ipython",
    "version": 3
   },
   "file_extension": ".py",
   "mimetype": "text/x-python",
   "name": "python",
   "nbconvert_exporter": "python",
   "pygments_lexer": "ipython3",
   "version": "3.10.9"
  }
 },
 "nbformat": 4,
 "nbformat_minor": 5
}
