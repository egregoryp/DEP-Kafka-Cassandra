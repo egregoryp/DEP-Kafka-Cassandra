{
 "cells": [
  {
   "cell_type": "code",
   "execution_count": null,
   "id": "1ef1e1f7",
   "metadata": {},
   "outputs": [],
   "source": [
    "from pyspark.sql import SparkSession\n",
    "from pyspark.sql.functions import from_json, to_timestamp, col, expr\n",
    "from pyspark.sql.types import StructType, StructField, StringType"
   ]
  },
  {
   "cell_type": "code",
   "execution_count": null,
   "id": "1e2269f9",
   "metadata": {},
   "outputs": [],
   "source": [
    "spark = SparkSession \\\n",
    "        .builder \\\n",
    "        .master(\"local[3]\") \\\n",
    "        .appName(\"Streaming Watermark Demo\") \\\n",
    "        .config(\"spark.streaming.stopGracefullyOnShutdown\", \"true\") \\\n",
    "        .config(\"spark.sql.shuffle.partitions\", 2) \\\n",
    "        .getOrCreate()"
   ]
  },
  {
   "cell_type": "code",
   "execution_count": null,
   "id": "5f178a50",
   "metadata": {},
   "outputs": [],
   "source": [
    "impressionSchema = StructType([\n",
    "        StructField(\"ImpressionID\", StringType()),\n",
    "        StructField(\"CreatedTime\", StringType()),\n",
    "        StructField(\"Campaigner\", StringType())\n",
    "    ])"
   ]
  },
  {
   "cell_type": "code",
   "execution_count": null,
   "id": "6e096a49",
   "metadata": {},
   "outputs": [],
   "source": [
    "clickSchema = StructType([\n",
    "        StructField(\"ImpressionID\", StringType()),\n",
    "        StructField(\"CreatedTime\", StringType())\n",
    "    ])"
   ]
  },
  {
   "cell_type": "code",
   "execution_count": null,
   "id": "01482896",
   "metadata": {},
   "outputs": [],
   "source": [
    "kafka_impression_df = spark \\\n",
    "        .readStream \\\n",
    "        .format(\"kafka\") \\\n",
    "        .option(\"kafka.bootstrap.servers\", \"localhost:9092\") \\\n",
    "        .option(\"subscribe\", \"impressions\") \\\n",
    "        .option(\"startingOffsets\", \"earliest\") \\\n",
    "        .load()"
   ]
  },
  {
   "cell_type": "code",
   "execution_count": null,
   "id": "7638d97f",
   "metadata": {},
   "outputs": [],
   "source": [
    "impressions_df = kafka_impression_df \\\n",
    "        .select(from_json(col(\"value\").cast(\"string\"), impressionSchema).alias(\"value\")) \\\n",
    "        .selectExpr(\"value.ImpressionID\", \"value.CreatedTime\", \"value.Campaigner\") \\\n",
    "        .withColumn(\"ImpressionTime\", to_timestamp(col(\"CreatedTime\"), \"yyyy-MM-dd HH:mm:ss\")) \\\n",
    "        .drop(\"CreatedTime\") \\\n",
    "        .withWatermark(\"ImpressionTime\", \"30 minute\")"
   ]
  },
  {
   "cell_type": "code",
   "execution_count": null,
   "id": "5645ebb0",
   "metadata": {},
   "outputs": [],
   "source": [
    "kafka_click_df = spark \\\n",
    "        .readStream \\\n",
    "        .format(\"kafka\") \\\n",
    "        .option(\"kafka.bootstrap.servers\", \"localhost:9092\") \\\n",
    "        .option(\"subscribe\", \"clicks\") \\\n",
    "        .option(\"startingOffsets\", \"earliest\") \\\n",
    "        .load()"
   ]
  },
  {
   "cell_type": "code",
   "execution_count": null,
   "id": "f066aafb",
   "metadata": {},
   "outputs": [],
   "source": [
    "clicks_df = kafka_click_df.select(\n",
    "        from_json(col(\"value\").cast(\"string\"), clickSchema).alias(\"value\")) \\\n",
    "        .selectExpr(\"value.ImpressionID as ClickID\", \"value.CreatedTime\") \\\n",
    "        .withColumn(\"ClickTime\", to_timestamp(col(\"CreatedTime\"), \"yyyy-MM-dd HH:mm:ss\")) \\\n",
    "        .drop(\"CreatedTime\") \\\n",
    "        .withWatermark(\"ClickTime\", \"30 minute\")"
   ]
  },
  {
   "cell_type": "code",
   "execution_count": null,
   "id": "b484dcd7",
   "metadata": {},
   "outputs": [],
   "source": [
    "join_expr = \"ImpressionID == ClickID\"\n",
    "join_type = \"inner\"\n",
    "joined_df = impressions_df.join(clicks_df, expr(join_expr), join_type)"
   ]
  },
  {
   "cell_type": "code",
   "execution_count": null,
   "id": "945a5be5",
   "metadata": {},
   "outputs": [],
   "source": [
    "output_query = joined_df.writeStream \\\n",
    "        .format(\"console\") \\\n",
    "        .outputMode(\"append\") \\\n",
    "        .option(\"checkpointLocation\", \"chk-point-dir\") \\\n",
    "        .trigger(processingTime=\"1 minute\") \\\n",
    "        .start()"
   ]
  },
  {
   "cell_type": "code",
   "execution_count": null,
   "id": "f8d1c7c8",
   "metadata": {},
   "outputs": [],
   "source": [
    "output_query.awaitTermination()"
   ]
  }
 ],
 "metadata": {
  "kernelspec": {
   "display_name": "Python 3 (ipykernel)",
   "language": "python",
   "name": "python3"
  },
  "language_info": {
   "codemirror_mode": {
    "name": "ipython",
    "version": 3
   },
   "file_extension": ".py",
   "mimetype": "text/x-python",
   "name": "python",
   "nbconvert_exporter": "python",
   "pygments_lexer": "ipython3",
   "version": "3.10.6"
  }
 },
 "nbformat": 4,
 "nbformat_minor": 5
}
