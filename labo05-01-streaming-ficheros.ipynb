{
 "cells": [
  {
   "cell_type": "code",
   "execution_count": 1,
   "id": "3c8f4b44",
   "metadata": {},
   "outputs": [],
   "source": [
    "# from pyspark.context import SparkContext\n",
    "# from pyspark.sql.session import SparkSession\n",
    "\n",
    "# spark = SparkSession\\\n",
    "#         .builder \\\n",
    "#         .appName(\"File Streaming Demo\") \\\n",
    "#         .master(\"local[3]\") \\\n",
    "#         .config(\"spark.streaming.stopGracefullyOnShutdown\", \"true\") \\\n",
    "#         .getOrCreate()"
   ]
  },
  {
   "cell_type": "code",
   "execution_count": 1,
   "id": "3cb33096",
   "metadata": {},
   "outputs": [],
   "source": [
    "from pyspark.sql.functions import expr"
   ]
  },
  {
   "cell_type": "code",
   "execution_count": 3,
   "id": "e35475a7",
   "metadata": {},
   "outputs": [],
   "source": [
    "#Se crea la sesión de spark y se habilita la inferencia de Schema el cual no esta habilitado por defecto en streaming\n",
    "spark = SparkSession \\\n",
    "        .builder \\\n",
    "        .appName(\"File Streaming Demo\") \\\n",
    "        .master(\"local[3]\") \\\n",
    "        .config(\"spark.streaming.stopGracefullyOnShutdown\", \"true\") \\\n",
    "        .config(\"spark.sql.streaming.schemaInference\", \"true\") \\\n",
    "        .getOrCreate()"
   ]
  },
  {
   "cell_type": "code",
   "execution_count": 4,
   "id": "c6ca6f3c",
   "metadata": {},
   "outputs": [],
   "source": [
    "# Se inicia el read Stream especificando el directorio de donde leera los archivos, e indicando que por Trigger\n",
    "# solo procesará un archivo\n",
    "raw_df = spark.readStream \\\n",
    "        .format(\"json\") \\\n",
    "        .option(\"path\", \"./data/streaming/input/\") \\\n",
    "        .option(\"maxFilesPerTrigger\", 1) \\\n",
    "        .load()"
   ]
  },
  {
   "cell_type": "code",
   "execution_count": 5,
   "id": "c7a938cf",
   "metadata": {},
   "outputs": [
    {
     "name": "stdout",
     "output_type": "stream",
     "text": [
      "root\n",
      " |-- CESS: double (nullable = true)\n",
      " |-- CGST: double (nullable = true)\n",
      " |-- CashierID: string (nullable = true)\n",
      " |-- CreatedTime: long (nullable = true)\n",
      " |-- CustomerCardNo: string (nullable = true)\n",
      " |-- CustomerType: string (nullable = true)\n",
      " |-- DeliveryAddress: struct (nullable = true)\n",
      " |    |-- AddressLine: string (nullable = true)\n",
      " |    |-- City: string (nullable = true)\n",
      " |    |-- ContactNumber: string (nullable = true)\n",
      " |    |-- PinCode: string (nullable = true)\n",
      " |    |-- State: string (nullable = true)\n",
      " |-- DeliveryType: string (nullable = true)\n",
      " |-- InvoiceLineItems: array (nullable = true)\n",
      " |    |-- element: struct (containsNull = true)\n",
      " |    |    |-- ItemCode: string (nullable = true)\n",
      " |    |    |-- ItemDescription: string (nullable = true)\n",
      " |    |    |-- ItemPrice: double (nullable = true)\n",
      " |    |    |-- ItemQty: long (nullable = true)\n",
      " |    |    |-- TotalValue: double (nullable = true)\n",
      " |-- InvoiceNumber: string (nullable = true)\n",
      " |-- NumberOfItems: long (nullable = true)\n",
      " |-- PaymentMethod: string (nullable = true)\n",
      " |-- PosID: string (nullable = true)\n",
      " |-- SGST: double (nullable = true)\n",
      " |-- StoreID: string (nullable = true)\n",
      " |-- TaxableAmount: double (nullable = true)\n",
      " |-- TotalAmount: double (nullable = true)\n",
      "\n"
     ]
    }
   ],
   "source": [
    "# inspeccionamos el esquema\n",
    "raw_df.printSchema()"
   ]
  },
  {
   "cell_type": "code",
   "execution_count": 6,
   "id": "55f2f6a5",
   "metadata": {},
   "outputs": [],
   "source": [
    "# creamos una estructura plana usando la información proveniente del json\n",
    "explode_df = raw_df.selectExpr(\"InvoiceNumber\", \"CreatedTime\", \"StoreID\", \"PosID\",\n",
    "                                   \"CustomerType\", \"PaymentMethod\", \"DeliveryType\", \"DeliveryAddress.City\",\n",
    "                                   \"DeliveryAddress.State\",\n",
    "                                   \"DeliveryAddress.PinCode\", \"explode(InvoiceLineItems) as LineItem\")"
   ]
  },
  {
   "cell_type": "code",
   "execution_count": 7,
   "id": "b7eb2aff",
   "metadata": {},
   "outputs": [],
   "source": [
    "# Se adecuan el contenido del campo LineItem\n",
    "flattened_df = explode_df \\\n",
    "        .withColumn(\"ItemCode\", expr(\"LineItem.ItemCode\")) \\\n",
    "        .withColumn(\"ItemDescription\", expr(\"LineItem.ItemDescription\")) \\\n",
    "        .withColumn(\"ItemPrice\", expr(\"LineItem.ItemPrice\")) \\\n",
    "        .withColumn(\"ItemQty\", expr(\"LineItem.ItemQty\")) \\\n",
    "        .withColumn(\"TotalValue\", expr(\"LineItem.TotalValue\")) \\\n",
    "        .drop(\"LineItem\")"
   ]
  },
  {
   "cell_type": "code",
   "execution_count": null,
   "id": "05132ca8",
   "metadata": {},
   "outputs": [],
   "source": [
    "# se generan los archivos de salida, indicamos cada cuanto tiempo se ejecutará el trigger\n",
    "invoiceWriterQuery = flattened_df.writeStream \\\n",
    "        .format(\"json\") \\\n",
    "        .queryName(\"Flattened Invoice Writer\") \\\n",
    "        .outputMode(\"append\") \\\n",
    "        .option(\"path\", \"./data/streaming/output/\") \\\n",
    "        .option(\"checkpointLocation\", \"./checkpoints/checkpoint-stream-file\") \\\n",
    "        .trigger(processingTime=\"1 minute\") \\\n",
    "        .start()\n",
    "invoiceWriterQuery.awaitTermination()"
   ]
  }
 ],
 "metadata": {
  "kernelspec": {
   "display_name": "Python 3 (ipykernel)",
   "language": "python",
   "name": "python3"
  },
  "language_info": {
   "codemirror_mode": {
    "name": "ipython",
    "version": 3
   },
   "file_extension": ".py",
   "mimetype": "text/x-python",
   "name": "python",
   "nbconvert_exporter": "python",
   "pygments_lexer": "ipython3",
   "version": "3.10.9"
  }
 },
 "nbformat": 4,
 "nbformat_minor": 5
}
