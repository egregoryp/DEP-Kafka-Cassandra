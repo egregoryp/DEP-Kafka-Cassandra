{
 "cells": [
  {
   "cell_type": "code",
   "execution_count": null,
   "id": "215e284f",
   "metadata": {},
   "outputs": [],
   "source": [
    "# Se lee una estructura como un RDD\n",
    "data = [1,2,3,4,5,6,7,8,9,10,11,12]\n",
    "rdd=spark.sparkContext.parallelize(data)"
   ]
  },
  {
   "cell_type": "code",
   "execution_count": null,
   "id": "d4f1209f",
   "metadata": {},
   "outputs": [],
   "source": [
    "rdd.collect()"
   ]
  },
  {
   "cell_type": "code",
   "execution_count": null,
   "id": "b259b328",
   "metadata": {},
   "outputs": [],
   "source": [
    "#getNumPartitions: Entrega el numero de particiones usado por la estructura\n",
    "rdd.getNumPartitions()"
   ]
  },
  {
   "cell_type": "code",
   "execution_count": null,
   "id": "ec4ec602",
   "metadata": {},
   "outputs": [],
   "source": [
    "#collect: Recupera los valores de un RDD en una coleccion\n",
    "for item in rdd.collect():\n",
    "    print(f\"item value:{item}\")"
   ]
  },
  {
   "cell_type": "code",
   "execution_count": null,
   "id": "98e01353",
   "metadata": {},
   "outputs": [],
   "source": [
    "#map: permite aplicar a cada item del RDD una operacion o funcion, por cada item\n",
    "rdd2=rdd.map(lambda x:(x,x*2))\n",
    "print(rdd2.collect())"
   ]
  },
  {
   "cell_type": "code",
   "execution_count": null,
   "id": "09785bd8",
   "metadata": {},
   "outputs": [],
   "source": [
    "\"11+258+485+2+99\".split(\"+\")"
   ]
  },
  {
   "cell_type": "code",
   "execution_count": null,
   "id": "c3b197da",
   "metadata": {},
   "outputs": [],
   "source": [
    "#flatMap similar a map, aplica una operacion por cada item, la estrucutura final q retorna es unidimensional\n",
    "data_str = ['aa','aa bb','aa bb cc','aa bb cc dd','aa bb cc dd ee']\n",
    "rdd_str=spark.sparkContext.parallelize(data_str)\n",
    "\n",
    "rdd_str_with_flat = rdd_str.flatMap(lambda x: x.split(\" \"))\n",
    "rdd_str_without_flat = rdd_str.map(lambda x: x.split(\" \"))\n",
    "print(\"rdd_str_with_flat items:\", rdd_str_with_flat.collect())\n",
    "print(\"rdd_str_with_flat count:\", rdd_str_with_flat.count())\n",
    "print(\"rdd_str_without_flat items:\",rdd_str_without_flat.collect())\n",
    "print(\"rdd_str_without_flat count:\", rdd_str_without_flat.count())"
   ]
  },
  {
   "cell_type": "code",
   "execution_count": null,
   "id": "091bf178",
   "metadata": {},
   "outputs": [],
   "source": [
    "#max: identifica el maximo valor de un RDD\n",
    "rdd_str_with_flat.max()"
   ]
  },
  {
   "cell_type": "code",
   "execution_count": null,
   "id": "7da20f61",
   "metadata": {},
   "outputs": [],
   "source": [
    "#reduceByKey: Reduce el numero de items de una estructura RDD en funcion del valor del campo llave \n",
    "data = [(\"Project\", 1),\n",
    "  (\"Gutenberg’s\", 1),\n",
    "  (\"Alice’s\", 1),\n",
    "  (\"Adventures\", 1),\n",
    "  (\"in\", 1),\n",
    "  (\"Wonderland\", 1),\n",
    "  (\"Project\", 1),\n",
    "  (\"Gutenberg’s\", 1),\n",
    "  (\"Adventures\", 1),\n",
    "  (\"in\", 1),\n",
    "  (\"Wonderland\", 1),\n",
    "  (\"Project\", 1),\n",
    "  (\"Gutenberg’s\", 1)]\n",
    "\n",
    "rdd=spark.sparkContext.parallelize(data)\n",
    "\n",
    "rdd2=rdd.reduceByKey(lambda a,b: a+b)\n",
    "\n",
    "print(rdd2.collect())"
   ]
  },
  {
   "cell_type": "code",
   "execution_count": null,
   "id": "9aee5855",
   "metadata": {},
   "outputs": [],
   "source": [
    "#permite filtrar los valores de un RDD\n",
    "rdd = sc.parallelize([1, 2, 3, 4, 5])\n",
    "rdd.filter(lambda x: x % 2 == 0).collect()"
   ]
  },
  {
   "cell_type": "code",
   "execution_count": null,
   "id": "d80c1c61",
   "metadata": {},
   "outputs": [],
   "source": [
    "#permite ordenar los valores de un RDD\n",
    "data_sort = [('a', 1), ('b', 2), ('1', 3), ('d', 4), ('2', 5)]\n",
    "rdd_sort=spark.sparkContext.parallelize(data_sort)\n",
    "rdd_sort.sortByKey(False, 1).collect()"
   ]
  }
 ],
 "metadata": {
  "kernelspec": {
   "display_name": "Python 3 (ipykernel)",
   "language": "python",
   "name": "python3"
  },
  "language_info": {
   "codemirror_mode": {
    "name": "ipython",
    "version": 3
   },
   "file_extension": ".py",
   "mimetype": "text/x-python",
   "name": "python",
   "nbconvert_exporter": "python",
   "pygments_lexer": "ipython3",
   "version": "3.8.3"
  }
 },
 "nbformat": 4,
 "nbformat_minor": 5
}
