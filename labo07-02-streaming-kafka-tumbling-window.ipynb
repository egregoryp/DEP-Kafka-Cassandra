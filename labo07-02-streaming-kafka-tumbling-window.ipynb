{
 "cells": [
  {
   "cell_type": "code",
   "execution_count": 1,
   "id": "17d0dad7",
   "metadata": {},
   "outputs": [],
   "source": [
    "#Carga de librerias\n",
    "from pyspark.sql.functions import from_json, col, to_timestamp, window, expr, sum\n",
    "from pyspark.sql.types import StructType, StructField, StringType, IntegerType"
   ]
  },
  {
   "cell_type": "code",
   "execution_count": 2,
   "id": "dd8a982e",
   "metadata": {},
   "outputs": [],
   "source": [
    "#creación de session spark\n",
    "spark = SparkSession \\\n",
    "        .builder \\\n",
    "        .appName(\"Tumbling Window Demo\") \\\n",
    "        .master(\"local[3]\") \\\n",
    "        .config(\"spark.streaming.stopGracefullyOnShutdown\", \"true\") \\\n",
    "        .config(\"spark.sql.shuffle.partitions\", 2) \\\n",
    "        .getOrCreate()"
   ]
  },
  {
   "cell_type": "code",
   "execution_count": 3,
   "id": "26b583ab",
   "metadata": {},
   "outputs": [],
   "source": [
    "#creamos el esquema para leer la data en formato JSON que recibimos de KAFKA\n",
    "stock_schema = StructType([\n",
    "        StructField(\"CreatedTime\", StringType()),\n",
    "        StructField(\"Type\", StringType()),\n",
    "        StructField(\"Amount\", IntegerType()),\n",
    "        StructField(\"BrokerCode\", StringType())\n",
    "    ])"
   ]
  },
  {
   "cell_type": "code",
   "execution_count": 4,
   "id": "d999ad33",
   "metadata": {},
   "outputs": [],
   "source": [
    "#Creamos el objeto de lectura del KAFKA\n",
    "kafka_df = spark.readStream \\\n",
    "        .format(\"kafka\") \\\n",
    "        .option(\"kafka.bootstrap.servers\", \"localhost:9092\") \\\n",
    "        .option(\"subscribe\", \"trades\") \\\n",
    "        .option(\"startingOffsets\", \"earliest\") \\\n",
    "        .load()"
   ]
  },
  {
   "cell_type": "code",
   "execution_count": 5,
   "id": "397a2d69",
   "metadata": {},
   "outputs": [],
   "source": [
    "#Transformamos el campo 'value' a una estructura del tipo JSON usando el esquema definido previamente\n",
    "value_df = kafka_df.select(from_json(col(\"value\").cast(\"string\"), stock_schema).alias(\"value\"))"
   ]
  },
  {
   "cell_type": "code",
   "execution_count": 6,
   "id": "5e7f22de",
   "metadata": {},
   "outputs": [],
   "source": [
    "#Realizamos calculos y casteamos el campo 'CreatedTime' a un tipo de dato TimeStamp\n",
    "trade_df = value_df.select(\"value.*\") \\\n",
    "        .withColumn(\"CreatedTime\", to_timestamp(col(\"CreatedTime\"), \"yyyy-MM-dd HH:mm:ss\")) \\\n",
    "        .withColumn(\"Buy\", expr(\"case when Type == 'BUY' then Amount else 0 end\")) \\\n",
    "        .withColumn(\"Sell\", expr(\"case when Type == 'SELL' then Amount else 0 end\"))"
   ]
  },
  {
   "cell_type": "code",
   "execution_count": 7,
   "id": "6b03e386",
   "metadata": {},
   "outputs": [],
   "source": [
    "#Se realiza una agregación considerando una ventana de 15 minutos a partir del campo 'CreatedTime'\n",
    "window_agg_df = trade_df \\\n",
    "        .groupBy(window(col(\"CreatedTime\"), \"15 minute\")) \\\n",
    "        .agg(sum(\"Buy\").alias(\"TotalBuy\"),\n",
    "             sum(\"Sell\").alias(\"TotalSell\"))"
   ]
  },
  {
   "cell_type": "code",
   "execution_count": 8,
   "id": "048e3c81",
   "metadata": {},
   "outputs": [],
   "source": [
    "#Se realiza una agregación considerando una ventana de 15 minutos a partir del campo 'CreatedTime'\n",
    "#Se declara como limite para la expiracion (Watermark) de los datos el rango de 30 minutos a partir del maximo 'CreatedTime'\n",
    "window_agg_df = trade_df \\\n",
    "        .withWatermark(\"CreatedTime\", \"30 minute\") \\\n",
    "        .groupBy(window(col(\"CreatedTime\"), \"15 minute\")) \\\n",
    "        .agg(sum(\"Buy\").alias(\"TotalBuy\"),\n",
    "             sum(\"Sell\").alias(\"TotalSell\"))"
   ]
  },
  {
   "cell_type": "code",
   "execution_count": 9,
   "id": "481d785a",
   "metadata": {},
   "outputs": [],
   "source": [
    "#Se selecciona los resultados que se mostraran\n",
    "output_df = window_agg_df.select(\"window.start\", \"window.end\", \"TotalBuy\", \"TotalSell\")"
   ]
  },
  {
   "cell_type": "code",
   "execution_count": 10,
   "id": "b1a45c60",
   "metadata": {},
   "outputs": [],
   "source": [
    "#Se imprime los resultados en la consola\n",
    "window_query = output_df.writeStream \\\n",
    "        .format(\"console\") \\\n",
    "        .outputMode(\"update\") \\\n",
    "        .option(\"checkpointLocation\", \"./checkpoint/tumbling-window\") \\\n",
    "        .trigger(processingTime=\"30 second\") \\\n",
    "        .start()"
   ]
  },
  {
   "cell_type": "code",
   "execution_count": null,
   "id": "c02ab8c7",
   "metadata": {},
   "outputs": [],
   "source": [
    "window_query.awaitTermination()"
   ]
  }
 ],
 "metadata": {
  "kernelspec": {
   "display_name": "Python 3 (ipykernel)",
   "language": "python",
   "name": "python3"
  },
  "language_info": {
   "codemirror_mode": {
    "name": "ipython",
    "version": 3
   },
   "file_extension": ".py",
   "mimetype": "text/x-python",
   "name": "python",
   "nbconvert_exporter": "python",
   "pygments_lexer": "ipython3",
   "version": "3.10.9"
  }
 },
 "nbformat": 4,
 "nbformat_minor": 5
}
