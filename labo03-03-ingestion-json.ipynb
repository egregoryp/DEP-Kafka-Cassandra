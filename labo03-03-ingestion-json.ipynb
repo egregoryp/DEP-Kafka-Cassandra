{
 "cells": [
  {
   "cell_type": "code",
   "execution_count": 2,
   "id": "6303384c",
   "metadata": {},
   "outputs": [],
   "source": [
    "from pyspark.sql.functions import col, lit"
   ]
  },
  {
   "cell_type": "code",
   "execution_count": 3,
   "id": "c9424eb3",
   "metadata": {},
   "outputs": [
    {
     "name": "stdout",
     "output_type": "stream",
     "text": [
      "root\n",
      " |-- employee: struct (nullable = true)\n",
      " |    |-- married: boolean (nullable = true)\n",
      " |    |-- name: string (nullable = true)\n",
      " |    |-- salary: long (nullable = true)\n",
      "\n"
     ]
    }
   ],
   "source": [
    "df=spark.read.json(\"./data/ingestion/json/sample01a.json\")\n",
    "df.printSchema()"
   ]
  },
  {
   "cell_type": "code",
   "execution_count": 4,
   "id": "725e5b1a",
   "metadata": {},
   "outputs": [
    {
     "name": "stdout",
     "output_type": "stream",
     "text": [
      "+--------------------+\n",
      "|            employee|\n",
      "+--------------------+\n",
      "|{true, sonoo, 56000}|\n",
      "+--------------------+\n",
      "\n"
     ]
    }
   ],
   "source": [
    "df.show()"
   ]
  },
  {
   "cell_type": "code",
   "execution_count": 5,
   "id": "ffd2bc4d",
   "metadata": {},
   "outputs": [
    {
     "name": "stdout",
     "output_type": "stream",
     "text": [
      "root\n",
      " |-- employee: struct (nullable = true)\n",
      " |    |-- married: boolean (nullable = true)\n",
      " |    |-- name: string (nullable = true)\n",
      " |    |-- salary: long (nullable = true)\n",
      "\n"
     ]
    }
   ],
   "source": [
    "df=spark.read.json([\"./data/ingestion/json/sample01a.json\", \"./data/ingestion/json/sample01b.json\"])\n",
    "df.printSchema()"
   ]
  },
  {
   "cell_type": "code",
   "execution_count": 6,
   "id": "9cc0c87c",
   "metadata": {},
   "outputs": [
    {
     "name": "stdout",
     "output_type": "stream",
     "text": [
      "+--------------------+\n",
      "|            employee|\n",
      "+--------------------+\n",
      "|{true, sonoo, 56000}|\n",
      "|{true, luigi, 15000}|\n",
      "+--------------------+\n",
      "\n"
     ]
    }
   ],
   "source": [
    "df.show()"
   ]
  },
  {
   "cell_type": "code",
   "execution_count": 10,
   "id": "7febbea1",
   "metadata": {},
   "outputs": [
    {
     "name": "stdout",
     "output_type": "stream",
     "text": [
      "+---------------------+\n",
      "|employee             |\n",
      "+---------------------+\n",
      "|{false, dania, 17000}|\n",
      "|{true, junior, 5500} |\n",
      "|{true, sonoo, 56000} |\n",
      "|{true, luigi, 15000} |\n",
      "+---------------------+\n",
      "\n"
     ]
    }
   ],
   "source": [
    "df=spark.read.option(\"multiline\",\"true\").json([\"./data/ingestion/json/sample01a.json\", \"./data/ingestion/json/sample01b.json\", \n",
    "                    \"./data/ingestion/json/sample01c.json\"])\n",
    "df.show(10,False)"
   ]
  },
  {
   "cell_type": "code",
   "execution_count": 12,
   "id": "eb6b35dc",
   "metadata": {},
   "outputs": [
    {
     "name": "stdout",
     "output_type": "stream",
     "text": [
      "root\n",
      " |-- name: string (nullable = true)\n",
      " |-- salary: long (nullable = true)\n",
      "\n"
     ]
    }
   ],
   "source": [
    "df.select(col(\"employee.name\"), col(\"employee.salary\")).printSchema()"
   ]
  },
  {
   "cell_type": "code",
   "execution_count": 15,
   "id": "9f442992",
   "metadata": {},
   "outputs": [],
   "source": [
    "df.select(col(\"employee.name\"), col(\"employee.salary\")).repartition(2).write.\\\n",
    "   csv(\"./data/ingestion/output/data_from_json_sample\")"
   ]
  },
  {
   "cell_type": "code",
   "execution_count": 16,
   "id": "139fc218",
   "metadata": {},
   "outputs": [
    {
     "name": "stdout",
     "output_type": "stream",
     "text": [
      "root\n",
      " |-- Country Code: string (nullable = true)\n",
      " |-- Country Name: string (nullable = true)\n",
      " |-- Value: string (nullable = true)\n",
      " |-- Year: string (nullable = true)\n",
      "\n"
     ]
    }
   ],
   "source": [
    "df_population_data=spark.read.option(\"multiline\",\"true\").json(\"./data/ingestion/json/population_data.json\")\n",
    "df_population_data.printSchema()"
   ]
  },
  {
   "cell_type": "code",
   "execution_count": 21,
   "id": "600b1e8c",
   "metadata": {},
   "outputs": [],
   "source": [
    "df_population_data.write.partitionBy(\"Year\").csv(\"./data/ingestion/output/population_data\")"
   ]
  },
  {
   "cell_type": "code",
   "execution_count": null,
   "id": "db322ef7",
   "metadata": {},
   "outputs": [],
   "source": [
    "schema = StructType([\n",
    "      StructField(\"RecordNumber\",IntegerType(),True),\n",
    "      StructField(\"Zipcode\",IntegerType(),True),\n",
    "      StructField(\"ZipCodeType\",StringType(),True),\n",
    "      StructField(\"City\",StringType(),True),\n",
    "      StructField(\"State\",StringType(),True),\n",
    "      StructField(\"LocationType\",StringType(),True),\n",
    "      StructField(\"Lat\",DoubleType(),True),\n",
    "      StructField(\"Long\",DoubleType(),True),\n",
    "      StructField(\"Xaxis\",IntegerType(),True),\n",
    "      StructField(\"Yaxis\",DoubleType(),True),\n",
    "      StructField(\"Zaxis\",DoubleType(),True),\n",
    "      StructField(\"WorldRegion\",StringType(),True),\n",
    "      StructField(\"Country\",StringType(),True),\n",
    "      StructField(\"LocationText\",StringType(),True),\n",
    "      StructField(\"Location\",StringType(),True),\n",
    "      StructField(\"Decommisioned\",BooleanType(),True),\n",
    "      StructField(\"TaxReturnsFiled\",StringType(),True),\n",
    "      StructField(\"EstimatedPopulation\",IntegerType(),True),\n",
    "      StructField(\"TotalWages\",IntegerType(),True),\n",
    "      StructField(\"Notes\",StringType(),True)\n",
    "  ])"
   ]
  },
  {
   "cell_type": "code",
   "execution_count": null,
   "id": "64c6505b",
   "metadata": {},
   "outputs": [],
   "source": [
    "df_with_schema = spark.read.schema(schema).json(\"./data/ingestion/zipcodes.json\")"
   ]
  },
  {
   "cell_type": "code",
   "execution_count": null,
   "id": "44382d37",
   "metadata": {},
   "outputs": [],
   "source": [
    "df_with_schema.printSchema()"
   ]
  },
  {
   "cell_type": "code",
   "execution_count": null,
   "id": "3045e6ed",
   "metadata": {},
   "outputs": [],
   "source": [
    "df_with_schema.show()"
   ]
  },
  {
   "cell_type": "code",
   "execution_count": null,
   "id": "6a87a466",
   "metadata": {},
   "outputs": [],
   "source": [
    "spark.sql(\"CREATE OR REPLACE TEMPORARY VIEW population_data USING json OPTIONS\" + \n",
    "      \" (path='./data/ingestion/json/population_data.json',multiline=true)\")\n",
    "spark.sql(\"select * from population_data\").show()"
   ]
  }
 ],
 "metadata": {
  "kernelspec": {
   "display_name": "Python 3 (ipykernel)",
   "language": "python",
   "name": "python3"
  },
  "language_info": {
   "codemirror_mode": {
    "name": "ipython",
    "version": 3
   },
   "file_extension": ".py",
   "mimetype": "text/x-python",
   "name": "python",
   "nbconvert_exporter": "python",
   "pygments_lexer": "ipython3",
   "version": "3.10.6"
  }
 },
 "nbformat": 4,
 "nbformat_minor": 5
}
