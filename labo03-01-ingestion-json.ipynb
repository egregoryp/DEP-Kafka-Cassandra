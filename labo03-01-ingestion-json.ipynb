{
 "cells": [
  {
   "cell_type": "code",
   "execution_count": null,
   "id": "6303384c",
   "metadata": {},
   "outputs": [],
   "source": [
    "from pyspark.sql.functions import col, lit\n",
    "from pyspark.sql.types import StructType,StructField, StringType, IntegerType, DoubleType, BooleanType"
   ]
  },
  {
   "cell_type": "code",
   "execution_count": null,
   "id": "c9424eb3",
   "metadata": {},
   "outputs": [],
   "source": [
    "df=spark.read.json(\"./data/json/sample01a.json\")\n",
    "df.printSchema()"
   ]
  },
  {
   "cell_type": "code",
   "execution_count": null,
   "id": "9ed97966",
   "metadata": {},
   "outputs": [],
   "source": [
    "df.show()"
   ]
  },
  {
   "cell_type": "code",
   "execution_count": null,
   "id": "ffd2bc4d",
   "metadata": {},
   "outputs": [],
   "source": [
    "df=spark.read.json([\"./data/json/sample01a.json\", \"./data/json/sample01b.json\"])\n",
    "df.printSchema()"
   ]
  },
  {
   "cell_type": "code",
   "execution_count": null,
   "id": "60f62dd5",
   "metadata": {},
   "outputs": [],
   "source": [
    "df.show()"
   ]
  },
  {
   "cell_type": "code",
   "execution_count": null,
   "id": "7febbea1",
   "metadata": {},
   "outputs": [],
   "source": [
    "df=spark.read.option(\"multiline\",\"true\").json([\"./data/json/sample01a.json\", \"./data/json/sample01b.json\", \n",
    "                    \"./data/json/sample01c.json\"])\n",
    "df.show(10,False)"
   ]
  },
  {
   "cell_type": "code",
   "execution_count": null,
   "id": "eb6b35dc",
   "metadata": {},
   "outputs": [],
   "source": [
    "df.select(col(\"employee.name\"), col(\"employee.salary\")).printSchema()"
   ]
  },
  {
   "cell_type": "code",
   "execution_count": null,
   "id": "70d738ce",
   "metadata": {},
   "outputs": [],
   "source": [
    "df.select(col(\"employee.name\"), col(\"employee.salary\")).repartition(2).write.mode(\"overwrite\").\\\n",
    "   csv(\"./data/output/data_from_json_sample\")"
   ]
  },
  {
   "cell_type": "code",
   "execution_count": null,
   "id": "139fc218",
   "metadata": {},
   "outputs": [],
   "source": [
    "df_population_data=spark.read.option(\"multiline\",\"true\").json(\"./data/json/population_data.json\")\n",
    "df_population_data.printSchema()"
   ]
  },
  {
   "cell_type": "code",
   "execution_count": null,
   "id": "600b1e8c",
   "metadata": {},
   "outputs": [],
   "source": [
    "df_population_data.write.partitionBy(\"Year\").option(\"header\",True).mode(\"overwrite\").csv(\"./data/output/population_data3\")"
   ]
  },
  {
   "cell_type": "code",
   "execution_count": null,
   "id": "aa2273aa",
   "metadata": {},
   "outputs": [],
   "source": [
    "df_population_data.write.partitionBy(\"Year\").mode(\"overwrite\").json(\"./data/output/population_data4\")"
   ]
  },
  {
   "cell_type": "code",
   "execution_count": null,
   "id": "d554e031",
   "metadata": {},
   "outputs": [],
   "source": [
    "df_output=spark.read.option(\"header\",True).csv(\"./data/output/population_data3/Year=1960\")"
   ]
  },
  {
   "cell_type": "code",
   "execution_count": null,
   "id": "aa7e6a9e",
   "metadata": {},
   "outputs": [],
   "source": [
    "df_output.printSchema()"
   ]
  },
  {
   "cell_type": "code",
   "execution_count": null,
   "id": "18033fe8",
   "metadata": {},
   "outputs": [],
   "source": [
    "spark.read.json(\"./data/json/zipcodes.json\").printSchema()"
   ]
  },
  {
   "cell_type": "code",
   "execution_count": null,
   "id": "db322ef7",
   "metadata": {},
   "outputs": [],
   "source": [
    "schema = StructType([\n",
    "      StructField(\"RecordNumber\",IntegerType(),True),\n",
    "      StructField(\"Zipcode\",IntegerType(),True),\n",
    "      StructField(\"ZipCodeType\",StringType(),True),\n",
    "      StructField(\"City\",StringType(),True),\n",
    "      StructField(\"State\",StringType(),True),\n",
    "      StructField(\"LocationType\",StringType(),True),\n",
    "      StructField(\"Lat\",DoubleType(),True),\n",
    "      StructField(\"Long\",DoubleType(),True),\n",
    "      StructField(\"Xaxis\",IntegerType(),True),\n",
    "      StructField(\"Yaxis\",DoubleType(),True),\n",
    "      StructField(\"Zaxis\",DoubleType(),True),\n",
    "      StructField(\"WorldRegion\",StringType(),True),\n",
    "      StructField(\"Country\",StringType(),True),\n",
    "      StructField(\"LocationText\",StringType(),True),\n",
    "      StructField(\"Location\",StringType(),True),\n",
    "      StructField(\"Decommisioned\",BooleanType(),True),\n",
    "      StructField(\"TaxReturnsFiled\",StringType(),True),\n",
    "      StructField(\"EstimatedPopulation\",IntegerType(),True),\n",
    "      StructField(\"TotalWages\",IntegerType(),True),\n",
    "      StructField(\"Notes\",StringType(),True)\n",
    "  ])"
   ]
  },
  {
   "cell_type": "code",
   "execution_count": null,
   "id": "64c6505b",
   "metadata": {},
   "outputs": [],
   "source": [
    "df_with_schema = spark.read.schema(schema).json(\"./data/json/zipcodes.json\")"
   ]
  },
  {
   "cell_type": "code",
   "execution_count": null,
   "id": "44382d37",
   "metadata": {},
   "outputs": [],
   "source": [
    "df_with_schema.printSchema()"
   ]
  },
  {
   "cell_type": "code",
   "execution_count": null,
   "id": "3045e6ed",
   "metadata": {},
   "outputs": [],
   "source": [
    "df_with_schema.show()"
   ]
  },
  {
   "cell_type": "code",
   "execution_count": null,
   "id": "6a87a466",
   "metadata": {},
   "outputs": [],
   "source": [
    "spark.sql(\"CREATE OR REPLACE TEMPORARY VIEW population_data USING json OPTIONS\" + \n",
    "      \" (path='./data/json/population_data.json',multiline=true)\")"
   ]
  },
  {
   "cell_type": "code",
   "execution_count": null,
   "id": "4ce427de",
   "metadata": {},
   "outputs": [],
   "source": [
    "spark.sql(\"select distinct `Country Code`  from population_data\").show()"
   ]
  }
 ],
 "metadata": {
  "kernelspec": {
   "display_name": "Python 3 (ipykernel)",
   "language": "python",
   "name": "python3"
  },
  "language_info": {
   "codemirror_mode": {
    "name": "ipython",
    "version": 3
   },
   "file_extension": ".py",
   "mimetype": "text/x-python",
   "name": "python",
   "nbconvert_exporter": "python",
   "pygments_lexer": "ipython3",
   "version": "3.8.3"
  }
 },
 "nbformat": 4,
 "nbformat_minor": 5
}
