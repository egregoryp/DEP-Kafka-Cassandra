{
 "cells": [
  {
   "cell_type": "code",
   "execution_count": 1,
   "id": "9c30b0d3",
   "metadata": {},
   "outputs": [],
   "source": [
    "from pyspark.sql import SparkSession\n",
    "from pyspark.sql.functions import from_json, to_timestamp, col, expr\n",
    "from pyspark.sql.types import StructType, StructField, StringType"
   ]
  },
  {
   "cell_type": "code",
   "execution_count": 2,
   "id": "f63999c1",
   "metadata": {},
   "outputs": [],
   "source": [
    "spark = SparkSession \\\n",
    "        .builder \\\n",
    "        .master(\"local[3]\") \\\n",
    "        .appName(\"Stream Stream Join Demo\") \\\n",
    "        .config(\"spark.streaming.stopGracefullyOnShutdown\", \"true\") \\\n",
    "        .config(\"spark.sql.shuffle.partitions\", 2) \\\n",
    "        .getOrCreate()"
   ]
  },
  {
   "cell_type": "code",
   "execution_count": 3,
   "id": "fb65cb9a",
   "metadata": {},
   "outputs": [],
   "source": [
    "impressionSchema = StructType([\n",
    "        StructField(\"InventoryID\", StringType()),\n",
    "        StructField(\"CreatedTime\", StringType()),\n",
    "        StructField(\"Campaigner\", StringType())\n",
    "    ])"
   ]
  },
  {
   "cell_type": "code",
   "execution_count": 4,
   "id": "c9ed5ae8",
   "metadata": {},
   "outputs": [],
   "source": [
    "clickSchema = StructType([\n",
    "        StructField(\"InventoryID\", StringType()),\n",
    "        StructField(\"CreatedTime\", StringType())\n",
    "    ])"
   ]
  },
  {
   "cell_type": "code",
   "execution_count": 5,
   "id": "47a3704f",
   "metadata": {},
   "outputs": [],
   "source": [
    "kafka_impression_df = spark \\\n",
    "        .readStream \\\n",
    "        .format(\"kafka\") \\\n",
    "        .option(\"kafka.bootstrap.servers\", \"localhost:9092\") \\\n",
    "        .option(\"subscribe\", \"impressions\") \\\n",
    "        .option(\"startingOffsets\", \"earliest\") \\\n",
    "        .load()"
   ]
  },
  {
   "cell_type": "code",
   "execution_count": 6,
   "id": "d9546466",
   "metadata": {},
   "outputs": [],
   "source": [
    "impressions_df = kafka_impression_df \\\n",
    "        .select(from_json(col(\"value\").cast(\"string\"), impressionSchema).alias(\"value\")) \\\n",
    "        .selectExpr(\"value.InventoryID as ImpressionID\", \"value.CreatedTime\", \"value.Campaigner\") \\\n",
    "        .withColumn(\"ImpressionTime\", to_timestamp(col(\"CreatedTime\"), \"yyyy-MM-dd HH:mm:ss\")) \\\n",
    "        .drop(\"CreatedTime\")"
   ]
  },
  {
   "cell_type": "code",
   "execution_count": 7,
   "id": "cec4d21f",
   "metadata": {},
   "outputs": [],
   "source": [
    "kafka_click_df = spark \\\n",
    "        .readStream \\\n",
    "        .format(\"kafka\") \\\n",
    "        .option(\"kafka.bootstrap.servers\", \"localhost:9092\") \\\n",
    "        .option(\"subscribe\", \"clicks\") \\\n",
    "        .option(\"startingOffsets\", \"earliest\") \\\n",
    "        .load()"
   ]
  },
  {
   "cell_type": "code",
   "execution_count": 8,
   "id": "8ac94a6c",
   "metadata": {},
   "outputs": [],
   "source": [
    "clicks_df = kafka_click_df.select(\n",
    "        from_json(col(\"value\").cast(\"string\"), clickSchema).alias(\"value\")) \\\n",
    "        .selectExpr(\"value.InventoryID as ClickID\", \"value.CreatedTime\") \\\n",
    "        .withColumn(\"ClickTime\", to_timestamp(col(\"CreatedTime\"), \"yyyy-MM-dd HH:mm:ss\")) \\\n",
    "        .drop(\"CreatedTime\")"
   ]
  },
  {
   "cell_type": "code",
   "execution_count": 9,
   "id": "b452f42c",
   "metadata": {},
   "outputs": [],
   "source": [
    "join_expr = \"ImpressionID == ClickID\"\n",
    "join_type = \"inner\""
   ]
  },
  {
   "cell_type": "code",
   "execution_count": 10,
   "id": "03bec8a2",
   "metadata": {},
   "outputs": [],
   "source": [
    "joined_df = impressions_df.join(clicks_df, expr(join_expr), join_type)"
   ]
  },
  {
   "cell_type": "code",
   "execution_count": 11,
   "id": "4362162b",
   "metadata": {},
   "outputs": [],
   "source": [
    "output_query = joined_df.writeStream \\\n",
    "        .format(\"console\") \\\n",
    "        .outputMode(\"append\") \\\n",
    "        .option(\"checkpointLocation\", \"chk-point-dir\") \\\n",
    "        .trigger(processingTime=\"1 minute\") \\\n",
    "        .start()"
   ]
  },
  {
   "cell_type": "code",
   "execution_count": null,
   "id": "b7fbeb59",
   "metadata": {},
   "outputs": [],
   "source": [
    "output_query.awaitTermination()"
   ]
  },
  {
   "cell_type": "code",
   "execution_count": null,
   "id": "dc5dce5c",
   "metadata": {},
   "outputs": [],
   "source": []
  },
  {
   "cell_type": "code",
   "execution_count": null,
   "id": "baa03870",
   "metadata": {},
   "outputs": [],
   "source": []
  }
 ],
 "metadata": {
  "kernelspec": {
   "display_name": "Python 3 (ipykernel)",
   "language": "python",
   "name": "python3"
  },
  "language_info": {
   "codemirror_mode": {
    "name": "ipython",
    "version": 3
   },
   "file_extension": ".py",
   "mimetype": "text/x-python",
   "name": "python",
   "nbconvert_exporter": "python",
   "pygments_lexer": "ipython3",
   "version": "3.10.9"
  }
 },
 "nbformat": 4,
 "nbformat_minor": 5
}
