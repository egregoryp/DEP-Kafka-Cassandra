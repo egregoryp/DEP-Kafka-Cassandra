{
 "cells": [
  {
   "cell_type": "code",
   "execution_count": null,
   "id": "43e2ad93",
   "metadata": {},
   "outputs": [],
   "source": [
    "from pyspark.sql import SparkSession\n",
    "from pyspark.sql.functions import from_json, to_timestamp, col, expr\n",
    "from pyspark.sql.types import StructType, StructField, StringType"
   ]
  },
  {
   "cell_type": "code",
   "execution_count": null,
   "id": "ee37686f",
   "metadata": {},
   "outputs": [],
   "source": [
    "spark = SparkSession \\\n",
    "        .builder \\\n",
    "        .master(\"local[3]\") \\\n",
    "        .appName(\"Streaming Outer Join Demo\") \\\n",
    "        .config(\"spark.streaming.stopGracefullyOnShutdown\", \"true\") \\\n",
    "        .config(\"spark.sql.shuffle.partitions\", 2) \\\n",
    "        .getOrCreate()"
   ]
  },
  {
   "cell_type": "code",
   "execution_count": null,
   "id": "f9dafb68",
   "metadata": {},
   "outputs": [],
   "source": [
    "impressionSchema = StructType([\n",
    "        StructField(\"ImpressionID\", StringType()),\n",
    "        StructField(\"CreatedTime\", StringType()),\n",
    "        StructField(\"Campaigner\", StringType())\n",
    "    ])"
   ]
  },
  {
   "cell_type": "code",
   "execution_count": null,
   "id": "c73f1554",
   "metadata": {},
   "outputs": [],
   "source": [
    "clickSchema = StructType([\n",
    "        StructField(\"ImpressionID\", StringType()),\n",
    "        StructField(\"CreatedTime\", StringType())\n",
    "    ])"
   ]
  },
  {
   "cell_type": "code",
   "execution_count": null,
   "id": "9421bc63",
   "metadata": {},
   "outputs": [],
   "source": [
    "kafka_impression_df = spark \\\n",
    "        .readStream \\\n",
    "        .format(\"kafka\") \\\n",
    "        .option(\"kafka.bootstrap.servers\", \"localhost:9092\") \\\n",
    "        .option(\"subscribe\", \"impressions\") \\\n",
    "        .option(\"startingOffsets\", \"earliest\") \\\n",
    "        .load()"
   ]
  },
  {
   "cell_type": "code",
   "execution_count": null,
   "id": "cb18569c",
   "metadata": {},
   "outputs": [],
   "source": [
    "impressions_df = kafka_impression_df \\\n",
    "        .select(from_json(col(\"value\").cast(\"string\"), impressionSchema).alias(\"value\")) \\\n",
    "        .selectExpr(\"value.ImpressionID\", \"value.CreatedTime\", \"value.Campaigner\") \\\n",
    "        .withColumn(\"ImpressionTime\", to_timestamp(col(\"CreatedTime\"), \"yyyy-MM-dd HH:mm:ss\")) \\\n",
    "        .drop(\"CreatedTime\") \\\n",
    "        .withWatermark(\"ImpressionTime\", \"30 minute\")"
   ]
  },
  {
   "cell_type": "code",
   "execution_count": null,
   "id": "965366cc",
   "metadata": {},
   "outputs": [],
   "source": [
    "kafka_click_df = spark \\\n",
    "        .readStream \\\n",
    "        .format(\"kafka\") \\\n",
    "        .option(\"kafka.bootstrap.servers\", \"localhost:9092\") \\\n",
    "        .option(\"subscribe\", \"clicks\") \\\n",
    "        .option(\"startingOffsets\", \"earliest\") \\\n",
    "        .load()"
   ]
  },
  {
   "cell_type": "code",
   "execution_count": null,
   "id": "41bd5717",
   "metadata": {},
   "outputs": [],
   "source": [
    "clicks_df = kafka_click_df.select(\n",
    "        from_json(col(\"value\").cast(\"string\"), clickSchema).alias(\"value\")) \\\n",
    "        .selectExpr(\"value.ImpressionID as ClickID\", \"value.CreatedTime\") \\\n",
    "        .withColumn(\"ClickTime\", to_timestamp(col(\"CreatedTime\"), \"yyyy-MM-dd HH:mm:ss\")) \\\n",
    "        .drop(\"CreatedTime\") \\\n",
    "        .withWatermark(\"ClickTime\", \"30 minute\")"
   ]
  },
  {
   "cell_type": "code",
   "execution_count": null,
   "id": "e0002f9f",
   "metadata": {},
   "outputs": [],
   "source": [
    "join_expr = \"ImpressionID == ClickID\" + \\\n",
    "                \" AND ClickTime BETWEEN ImpressionTime AND ImpressionTime + interval 15 minute\"\n",
    "join_type = \"leftOuter\"\n",
    "joined_df = impressions_df.join(clicks_df, expr(join_expr), join_type)"
   ]
  },
  {
   "cell_type": "code",
   "execution_count": null,
   "id": "55b6ba1c",
   "metadata": {},
   "outputs": [],
   "source": [
    "output_query = joined_df.writeStream \\\n",
    "        .format(\"console\") \\\n",
    "        .outputMode(\"append\") \\\n",
    "        .option(\"checkpointLocation\", \"chk-point-dir\") \\\n",
    "        .trigger(processingTime=\"1 minute\") \\\n",
    "        .start()"
   ]
  },
  {
   "cell_type": "code",
   "execution_count": null,
   "id": "6d07fc14",
   "metadata": {},
   "outputs": [],
   "source": [
    "output_query.awaitTermination()"
   ]
  }
 ],
 "metadata": {
  "kernelspec": {
   "display_name": "Python 3 (ipykernel)",
   "language": "python",
   "name": "python3"
  },
  "language_info": {
   "codemirror_mode": {
    "name": "ipython",
    "version": 3
   },
   "file_extension": ".py",
   "mimetype": "text/x-python",
   "name": "python",
   "nbconvert_exporter": "python",
   "pygments_lexer": "ipython3",
   "version": "3.10.9"
  }
 },
 "nbformat": 4,
 "nbformat_minor": 5
}
