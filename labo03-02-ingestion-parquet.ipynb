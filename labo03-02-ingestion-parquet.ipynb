{
 "cells": [
  {
   "cell_type": "code",
   "execution_count": null,
   "id": "d73a429c",
   "metadata": {},
   "outputs": [],
   "source": [
    "from pyspark.sql.functions import col, lit"
   ]
  },
  {
   "cell_type": "code",
   "execution_count": null,
   "id": "9b41e6dc",
   "metadata": {},
   "outputs": [],
   "source": [
    "df=spark.read.parquet(\"./data/sample.parquet\")"
   ]
  },
  {
   "cell_type": "code",
   "execution_count": null,
   "id": "e3c6aa4c",
   "metadata": {},
   "outputs": [],
   "source": [
    "df.printSchema()"
   ]
  },
  {
   "cell_type": "code",
   "execution_count": null,
   "id": "33cda8ea",
   "metadata": {},
   "outputs": [],
   "source": [
    "df.withColumn('tpep_pickup_date',col('tpep_pickup_datetime').cast('date')).\\\n",
    "   write.mode(\"overwrite\").partitionBy('VendorID','tpep_pickup_date').parquet(\"./data/output/sample_parquet\")"
   ]
  },
  {
   "cell_type": "code",
   "execution_count": null,
   "id": "c95ba8f0",
   "metadata": {},
   "outputs": [],
   "source": [
    "dfv6=spark.read.parquet(\"./data/output/sample_parquet/VendorID=6\")"
   ]
  },
  {
   "cell_type": "code",
   "execution_count": null,
   "id": "2eeb3561",
   "metadata": {},
   "outputs": [],
   "source": [
    "dfv6.count()\n",
    "#5563"
   ]
  },
  {
   "cell_type": "code",
   "execution_count": null,
   "id": "28fd929f",
   "metadata": {},
   "outputs": [],
   "source": [
    "dfv5=spark.read.parquet(\"./data/output/sample_parquet/VendorID=5\")\n",
    "dfv5.count()"
   ]
  },
  {
   "cell_type": "code",
   "execution_count": null,
   "id": "c083d2f5",
   "metadata": {},
   "outputs": [],
   "source": [
    "dfv5.groupBy(\"tpep_pickup_date\").count().show()"
   ]
  },
  {
   "cell_type": "code",
   "execution_count": null,
   "id": "a72df5de",
   "metadata": {},
   "outputs": [],
   "source": [
    "dfv5.write.partitionBy(\"tpep_pickup_date\").mode('append').parquet(\"./data/output/sample_parquet/VendorID=6\")"
   ]
  },
  {
   "cell_type": "code",
   "execution_count": null,
   "id": "e8e8327b",
   "metadata": {},
   "outputs": [],
   "source": [
    "df=spark.read.option(\"multiline\",\"true\").json([\"./data/json/sample01a.json\", \"./data/json/sample01b.json\", \n",
    "                    \"./data/json/sample01c.json\"])\n",
    "df.createOrReplaceTempView(\"ParquetTable\")\n",
    "parkSQL = spark.sql(\"select * from ParquetTable where employee.salary >= 4000 \")"
   ]
  },
  {
   "cell_type": "code",
   "execution_count": null,
   "id": "676c1376",
   "metadata": {},
   "outputs": [],
   "source": [
    "spark.sql(\"CREATE TEMPORARY VIEW data USING parquet OPTIONS (path \\\"./data/output/sample_parquet\\\")\")\n",
    "spark.sql(\"SELECT * FROM data\").show()"
   ]
  }
 ],
 "metadata": {
  "kernelspec": {
   "display_name": "Python 3 (ipykernel)",
   "language": "python",
   "name": "python3"
  },
  "language_info": {
   "codemirror_mode": {
    "name": "ipython",
    "version": 3
   },
   "file_extension": ".py",
   "mimetype": "text/x-python",
   "name": "python",
   "nbconvert_exporter": "python",
   "pygments_lexer": "ipython3",
   "version": "3.8.3"
  }
 },
 "nbformat": 4,
 "nbformat_minor": 5
}
