{
 "cells": [
  {
   "cell_type": "code",
   "execution_count": 1,
   "id": "b74d167a",
   "metadata": {},
   "outputs": [],
   "source": [
    "from pyspark.sql.functions import from_json, col, expr\n",
    "from pyspark.sql.types import StructType, StructField, StringType, LongType, DoubleType, IntegerType, ArrayType"
   ]
  },
  {
   "cell_type": "code",
   "execution_count": 2,
   "id": "14a3c690",
   "metadata": {},
   "outputs": [],
   "source": [
    "spark = SparkSession \\\n",
    "        .builder \\\n",
    "        .appName(\"Multi Query Demo\") \\\n",
    "        .master(\"local[3]\") \\\n",
    "        .config(\"spark.streaming.stopGracefullyOnShutdown\", \"true\") \\\n",
    "        .getOrCreate()"
   ]
  },
  {
   "cell_type": "code",
   "execution_count": 3,
   "id": "8ce4b69f",
   "metadata": {},
   "outputs": [],
   "source": [
    "schema = StructType([\n",
    "        StructField(\"InvoiceNumber\", StringType()),\n",
    "        StructField(\"CreatedTime\", LongType()),\n",
    "        StructField(\"StoreID\", StringType()),\n",
    "        StructField(\"PosID\", StringType()),\n",
    "        StructField(\"CashierID\", StringType()),\n",
    "        StructField(\"CustomerType\", StringType()),\n",
    "        StructField(\"CustomerCardNo\", StringType()),\n",
    "        StructField(\"TotalAmount\", DoubleType()),\n",
    "        StructField(\"NumberOfItems\", IntegerType()),\n",
    "        StructField(\"PaymentMethod\", StringType()),\n",
    "        StructField(\"CGST\", DoubleType()),\n",
    "        StructField(\"SGST\", DoubleType()),\n",
    "        StructField(\"CESS\", DoubleType()),\n",
    "        StructField(\"DeliveryType\", StringType()),\n",
    "        StructField(\"DeliveryAddress\", StructType([\n",
    "            StructField(\"AddressLine\", StringType()),\n",
    "            StructField(\"City\", StringType()),\n",
    "            StructField(\"State\", StringType()),\n",
    "            StructField(\"PinCode\", StringType()),\n",
    "            StructField(\"ContactNumber\", StringType())\n",
    "        ])),\n",
    "        StructField(\"InvoiceLineItems\", ArrayType(StructType([\n",
    "            StructField(\"ItemCode\", StringType()),\n",
    "            StructField(\"ItemDescription\", StringType()),\n",
    "            StructField(\"ItemPrice\", DoubleType()),\n",
    "            StructField(\"ItemQty\", IntegerType()),\n",
    "            StructField(\"TotalValue\", DoubleType())\n",
    "        ]))),\n",
    "    ])"
   ]
  },
  {
   "cell_type": "code",
   "execution_count": 4,
   "id": "3f0e770d",
   "metadata": {},
   "outputs": [],
   "source": [
    "kafka_df = spark.readStream \\\n",
    "        .format(\"kafka\") \\\n",
    "        .option(\"kafka.bootstrap.servers\", \"localhost:9092\") \\\n",
    "        .option(\"subscribe\", \"invoices\") \\\n",
    "        .option(\"startingOffsets\", \"earliest\") \\\n",
    "        .load()"
   ]
  },
  {
   "cell_type": "code",
   "execution_count": 5,
   "id": "05e64fb2",
   "metadata": {},
   "outputs": [],
   "source": [
    "value_df = kafka_df.select(from_json(col(\"value\").cast(\"string\"), schema).alias(\"value\"))"
   ]
  },
  {
   "cell_type": "code",
   "execution_count": 6,
   "id": "0692878a",
   "metadata": {},
   "outputs": [],
   "source": [
    "notification_df = value_df.select(\"value.InvoiceNumber\", \"value.CustomerCardNo\", \"value.TotalAmount\") \\\n",
    "        .withColumn(\"EarnedLoyaltyPoints\", expr(\"TotalAmount * 0.2\"))"
   ]
  },
  {
   "cell_type": "code",
   "execution_count": 7,
   "id": "b3be9b9b",
   "metadata": {},
   "outputs": [],
   "source": [
    "kafka_target_df = notification_df.selectExpr(\"InvoiceNumber as key\", \"to_json(struct(*)) as value\")"
   ]
  },
  {
   "cell_type": "code",
   "execution_count": 8,
   "id": "e3a57621",
   "metadata": {},
   "outputs": [],
   "source": [
    "notification_writer_query = kafka_target_df \\\n",
    "        .writeStream \\\n",
    "        .queryName(\"Notification Writer\") \\\n",
    "        .format(\"kafka\") \\\n",
    "        .option(\"kafka.bootstrap.servers\", \"localhost:9092\") \\\n",
    "        .option(\"topic\", \"notifications\") \\\n",
    "        .outputMode(\"append\") \\\n",
    "        .option(\"checkpointLocation\", \"./checkpoints/notify\") \\\n",
    "        .start()"
   ]
  },
  {
   "cell_type": "code",
   "execution_count": 9,
   "id": "1f45ee56",
   "metadata": {},
   "outputs": [],
   "source": [
    "explode_df = value_df.selectExpr(\"value.InvoiceNumber\", \"value.CreatedTime\", \"value.StoreID\",\n",
    "                                     \"value.PosID\", \"value.CustomerType\", \"value.PaymentMethod\", \"value.DeliveryType\",\n",
    "                                     \"value.DeliveryAddress.City\",\n",
    "                                     \"value.DeliveryAddress.State\", \"value.DeliveryAddress.PinCode\",\n",
    "                                     \"explode(value.InvoiceLineItems) as LineItem\")"
   ]
  },
  {
   "cell_type": "code",
   "execution_count": 13,
   "id": "271bc5f5",
   "metadata": {},
   "outputs": [],
   "source": [
    "flattened_df = explode_df \\\n",
    "        .withColumn(\"ItemCode\", expr(\"LineItem.ItemCode\")) \\\n",
    "        .withColumn(\"ItemDescription\", expr(\"LineItem.ItemDescription\")) \\\n",
    "        .withColumn(\"ItemPrice\", expr(\"LineItem.ItemPrice\")) \\\n",
    "        .withColumn(\"ItemQty\", expr(\"LineItem.ItemQty\")) \\\n",
    "        .withColumn(\"TotalValue\", expr(\"LineItem.TotalValue\")) \\\n",
    "        .drop(\"LineItem\")"
   ]
  },
  {
   "cell_type": "code",
   "execution_count": 16,
   "id": "09234e4c",
   "metadata": {},
   "outputs": [],
   "source": [
    "invoice_writer_query = flattened_df.writeStream \\\n",
    "        .format(\"json\") \\\n",
    "        .queryName(\"Flattened Invoice Writer\") \\\n",
    "        .outputMode(\"append\") \\\n",
    "        .option(\"path\", \"./data/streaming/output-invoice/\") \\\n",
    "        .option(\"checkpointLocation\", \"./checkpoints/invoice-file\") \\\n",
    "        .start()"
   ]
  },
  {
   "cell_type": "code",
   "execution_count": null,
   "id": "3c6bacd4",
   "metadata": {},
   "outputs": [],
   "source": [
    "spark.streams.awaitAnyTermination()"
   ]
  }
 ],
 "metadata": {
  "kernelspec": {
   "display_name": "Python 3 (ipykernel)",
   "language": "python",
   "name": "python3"
  },
  "language_info": {
   "codemirror_mode": {
    "name": "ipython",
    "version": 3
   },
   "file_extension": ".py",
   "mimetype": "text/x-python",
   "name": "python",
   "nbconvert_exporter": "python",
   "pygments_lexer": "ipython3",
   "version": "3.10.9"
  }
 },
 "nbformat": 4,
 "nbformat_minor": 5
}
